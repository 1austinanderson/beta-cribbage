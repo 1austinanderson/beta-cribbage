{
 "cells": [
  {
   "cell_type": "code",
   "execution_count": 1,
   "metadata": {},
   "outputs": [
    {
     "name": "stderr",
     "output_type": "stream",
     "text": [
      "Using TensorFlow backend.\n"
     ]
    },
    {
     "data": {
      "text/plain": [
       "0"
      ]
     },
     "execution_count": 1,
     "metadata": {},
     "output_type": "execute_result"
    }
   ],
   "source": [
    "### Haven't touched this model in a while\n",
    "### Might not execute right!\n",
    "\n",
    "import numpy as np\n",
    "from multiprocessing import Pool\n",
    "#from pathos.multiprocessing import ProcessingPool as Pool\n",
    "import random\n",
    "from keras.layers import Input, Embedding, LSTM, Dense\n",
    "from keras.models import Model\n",
    "import keras\n",
    "import time\n",
    "\n",
    "import os\n",
    "os.system(\"taskset -p 0xffffffff %d\" % os.getpid())"
   ]
  },
  {
   "cell_type": "code",
   "execution_count": 2,
   "metadata": {},
   "outputs": [
    {
     "data": {
      "text/plain": [
       "{0,\n",
       " 1,\n",
       " 2,\n",
       " 3,\n",
       " 4,\n",
       " 5,\n",
       " 6,\n",
       " 7,\n",
       " 8,\n",
       " 9,\n",
       " 10,\n",
       " 11,\n",
       " 12,\n",
       " 13,\n",
       " 14,\n",
       " 15,\n",
       " 16,\n",
       " 17,\n",
       " 18,\n",
       " 19,\n",
       " 20,\n",
       " 21,\n",
       " 22,\n",
       " 23,\n",
       " 24,\n",
       " 25,\n",
       " 26,\n",
       " 27,\n",
       " 28,\n",
       " 29,\n",
       " 30,\n",
       " 31}"
      ]
     },
     "execution_count": 2,
     "metadata": {},
     "output_type": "execute_result"
    }
   ],
   "source": [
    "os.sched_getaffinity(0)"
   ]
  },
  {
   "cell_type": "code",
   "execution_count": 3,
   "metadata": {
    "collapsed": true
   },
   "outputs": [],
   "source": [
    "def pegScore(plays,who):\n",
    "    thisCard=0\n",
    "    if len(plays)==1:\n",
    "        #print('1')\n",
    "        return 0\n",
    "    if plays[-2:]==[0,0]:\n",
    "        #print(\"go\",who[-1])\n",
    "        theGo=who[-1]\n",
    "        if sum(plays)>=31:\n",
    "            theGo=0\n",
    "        return pegScore(plays[:-1],who[:-1])+theGo\n",
    "    playruns=list(filter(lambda a: a != 0, plays[:-1]))+[plays[-1]]\n",
    "    playsums=[min(x,10) for x in plays]\n",
    "    playsums=list(filter(lambda a: a != 0, playsums[:-1]))+[playsums[-1]]\n",
    "    #print(len(playsums))\n",
    "    #print(plays)\n",
    "    #print(who)\n",
    "    if len(playsums)==2 and playsums[-1]>0:\n",
    "        #print('2')\n",
    "        if playruns[-1]==playruns[-2]:\n",
    "            thisCard+=2\n",
    "        if(sum(playsums)==15):\n",
    "            thisCard+=2\n",
    "    elif len(playsums)==3 and playsums[-1]>0:\n",
    "        #print('3')\n",
    "        if playruns[-1]==playruns[-2]==playruns[-3]:\n",
    "            thisCard+=6\n",
    "        elif playruns[-1]==playruns[-2]:\n",
    "            thisCard+=2\n",
    "        if sum(playruns)*1.0 == ((max(playruns)*(max(playruns)+1)/2-min(playruns)*(min(playruns)-1)/2)) and len(playruns)==len(set(playruns)):\n",
    "            thisCard+=3\n",
    "        if(sum(playsums)==15):\n",
    "            thisCard+=2\n",
    "    elif len(playsums)>=4 and playsums[-1]>0:\n",
    "        #print('4')\n",
    "        if playruns[-1]==playruns[-2]==playruns[-3]==playruns[-4]:\n",
    "            thisCard+=12\n",
    "        elif playruns[-1]==playruns[-2]==playruns[-3]:\n",
    "            thisCard+=6\n",
    "        elif playruns[-1]==playruns[-2]:\n",
    "            thisCard+=2\n",
    "        if sum(playruns[-7:])*1.0 == ((max(playruns[-7:])*(max(playruns[-7:])+1)/2-min(playruns[-7:])*(min(playruns[-7:])-1)/2)) and len(playruns[-7:])==len(set(playruns[-7:]))==7:\n",
    "            thisCard+=7\n",
    "        elif sum(playruns[-6:])*1.0 == ((max(playruns[-6:])*(max(playruns[-6:])+1)/2-min(playruns[-6:])*(min(playruns[-6:])-1)/2)) and len(playruns[-6:])==len(set(playruns[-6:]))==6:\n",
    "            thisCard+=6\n",
    "        elif sum(playruns[-5:])*1.0 == ((max(playruns[-5:])*(max(playruns[-5:])+1)/2-min(playruns[-5:])*(min(playruns[-5:])-1)/2)) and len(playruns[-5:])==len(set(playruns[-5:]))==5:\n",
    "            thisCard+=5\n",
    "        elif sum(playruns[-4:])*1.0 == ((max(playruns[-4:])*(max(playruns[-4:])+1)/2-min(playruns[-4:])*(min(playruns[-4:])-1)/2)) and len(playruns[-4:])==len(set(playruns[-4:]))==4:\n",
    "            thisCard+=4\n",
    "        elif sum(playruns[-3:])*1.0 == ((max(playruns[-3:])*(max(playruns[-3:])+1)/2-min(playruns[-3:])*(min(playruns[-3:])-1)/2)) and len(playruns[-3:])==len(set(playruns[-3:]))==3:\n",
    "            thisCard+=3\n",
    "        if(sum(playsums)==15):\n",
    "            thisCard+=2\n",
    "        if(sum(playsums)==31):\n",
    "            thisCard+=2\n",
    "    #print(\"outp\",plays)\n",
    "    #print(\"outw\",who)\n",
    "    #print(\"this\",who[-1]*thisCard)\n",
    "    return pegScore(plays[:-1],who[:-1])+who[-1]*thisCard\n"
   ]
  },
  {
   "cell_type": "code",
   "execution_count": 4,
   "metadata": {
    "collapsed": true
   },
   "outputs": [],
   "source": [
    "def numpy_fillna(data):\n",
    "    # Get lengths of each row of data\n",
    "    lens = np.array([len(i) for i in data])\n",
    "\n",
    "    # Mask of valid places in each row\n",
    "    mask = np.arange(10) < lens[:,None]\n",
    "\n",
    "    # Setup output array and put elements from data into masked positions\n",
    "    out = np.full(mask.shape, -1, dtype=\"float32\")\n",
    "    out[mask] = np.concatenate(data)\n",
    "    return out"
   ]
  },
  {
   "cell_type": "code",
   "execution_count": 5,
   "metadata": {
    "collapsed": true
   },
   "outputs": [],
   "source": [
    "class GameNode(object):\n",
    "    \"Generic tree node.\"\n",
    "    def __init__(self, hand1,hand2,plays,whos,nextPlay,nodeID):\n",
    "        self.nodeID = nodeID\n",
    "        self.hand1 = hand1\n",
    "        self.hand2 = hand2\n",
    "        self.plays = plays\n",
    "        self.whos = whos\n",
    "        self.nextPlay = nextPlay\n",
    "        self.children = []\n",
    "        self.runningCount=sum(np.minimum(plays,10).tolist())\n",
    "        self.isDone = 0\n",
    "        self.isPredicted = 0\n",
    "        self.isExpanded = 0\n",
    "        self.score = -999\n",
    "        self.predScore = -999\n",
    "    def __repr__(self):\n",
    "        return \"GameNode object \"+str(self.nodeID)+\" predScore:\"+str(self.predScore)\n",
    "    \n",
    "    def expand(self):\n",
    "        if len(self.plays)>1:\n",
    "            if self.plays[-2:]==[0,0]:\n",
    "                self.isExpanded = 1\n",
    "                return 0\n",
    "        if len(self.plays)>12:\n",
    "            self.isExpanded = 1\n",
    "            return \"whoa!\"\n",
    "        if self.nextPlay==1:\n",
    "            newhand1=[]\n",
    "            newhand2=[]\n",
    "            newplays=[]\n",
    "            newwhos=[]\n",
    "            for i in range(len(self.hand1)):\n",
    "                nextCard=self.hand1[i]\n",
    "                if nextCard!=0 and self.runningCount+min(10,nextCard)<=31:\n",
    "                    h1=self.hand1[:]\n",
    "                    newplays+=[self.plays+[nextCard]]\n",
    "                    newwhos+=[self.whos+[1]]\n",
    "                    h1[i]=0\n",
    "                    newhand1+=[h1]\n",
    "                    newhand2+=[self.hand2]\n",
    "            if len(newhand1)==0:\n",
    "                newplays+=[self.plays+[0]]\n",
    "                newwhos+=[self.whos+[1]]\n",
    "                newhand1+=[self.hand1]\n",
    "                newhand2+=[self.hand2]\n",
    "            for i in range(len(newhand1)):\n",
    "                self.children+=[GameNode(newhand1[i],newhand2[i],newplays[i],newwhos[i],-1,self.nodeID*10+i+1)]\n",
    "        else:\n",
    "            newhand1=[]\n",
    "            newhand2=[]\n",
    "            newplays=[]\n",
    "            newwhos=[]\n",
    "            for i in range(len(self.hand2)):\n",
    "                nextCard=self.hand2[i]\n",
    "                if nextCard!=0 and self.runningCount+min(10,nextCard)<=31:\n",
    "                    h2=self.hand2[:]\n",
    "                    newplays+=[self.plays+[nextCard]]\n",
    "                    newwhos+=[self.whos+[-1]]\n",
    "                    h2[i]=0\n",
    "                    newhand1+=[self.hand1]\n",
    "                    newhand2+=[h2]\n",
    "            if len(newhand1)==0:\n",
    "                newplays+=[self.plays+[0]]\n",
    "                newwhos+=[self.whos+[-1]]\n",
    "                newhand1+=[self.hand1]\n",
    "                newhand2+=[self.hand2]\n",
    "            for i in range(len(newhand1)):\n",
    "                self.children+=[GameNode(newhand1[i],newhand2[i],newplays[i],newwhos[i],1,self.nodeID*10+i+1)]\n",
    "        self.isExpanded = 1\n",
    "        for i in range(len(self.children)):\n",
    "            self.children[i].expand()\n",
    "        return \"expanded\"+str(self.plays)\n",
    "    \n",
    "    def updatePredScore(self,returnData):\n",
    "        if self.nodeID in returnData:\n",
    "            self.predScore=returnData[self.nodeID]\n",
    "        for i in self.children:\n",
    "            i.updatePredScore(returnData)\n",
    "    \n",
    "    def getAllPossibilities(self):\n",
    "        allHand1=[]\n",
    "        allHand2=[]\n",
    "        allWhos=[]\n",
    "        allPlays=[]\n",
    "        for i in range(len(self.children)):\n",
    "            childsPlay=self.children[i].getAllPossibilities()\n",
    "            for j in range(len(childsPlay['hand1'])):\n",
    "                allHand1+=[childsPlay['hand1'][j]]\n",
    "                allHand2+=[childsPlay['hand2'][j]]\n",
    "                allWhos+=[childsPlay['whos'][j]]\n",
    "                allPlays+=[childsPlay['plays'][j]]\n",
    "        allHand1+=[self.hand1]\n",
    "        allHand2+=[self.hand2]\n",
    "        allWhos+=[self.whos]\n",
    "        allPlays+=[self.plays]\n",
    "        return {'hand1': allHand1, 'hand2': allHand2, 'whos': allWhos, 'plays': allPlays}\n",
    "\n",
    "    def getNaiveScore(self):\n",
    "        if self.score > -999:\n",
    "            return(self.score)\n",
    "        return(self.calcNaiveScore())\n",
    "\n",
    "\n",
    "    def calcNaiveScore(self):\n",
    "        if len(self.plays)>1:\n",
    "            if self.plays[-2:]==[0,0]:\n",
    "                self.score=pegScore(self.plays,self.whos)\n",
    "                self.isScored = 1\n",
    "                return(self.score)\n",
    "        for child in self.children:\n",
    "            kidScore=child.getNaiveScore()\n",
    "            if kidScore>self.score:\n",
    "                self.score=kidScore\n",
    "        return(self.score)\n",
    "\n",
    "    \n",
    "    def getSmartScore(self):\n",
    "        if self.score > -999:\n",
    "            return(self.score)\n",
    "        return(self.calcSmartScore())\n",
    "\n",
    "\n",
    "    def calcSmartScore(self):\n",
    "        if len(self.plays)>1:\n",
    "            if self.plays[-2:]==[0,0]:\n",
    "                self.score=pegScore(self.plays,self.whos)\n",
    "                self.isScored = 1\n",
    "                return(self.score)\n",
    "        if self.nextPlay==-1 and len(self.children)>1:\n",
    "            bestGuessIndex=0\n",
    "            bestGuessValue=-999\n",
    "            for i in range(len(self.children)):\n",
    "                if self.children[i].predScore>bestGuessValue:\n",
    "                    bestGuessValue=self.children[i].predScore\n",
    "                    bestGuessIndex=i\n",
    "            self.score=self.children[bestGuessIndex].getSmartScore()\n",
    "        else:\n",
    "            for child in self.children:\n",
    "                kidScore=child.getSmartScore()\n",
    "                if kidScore>self.score:\n",
    "                    self.score=kidScore\n",
    "        return(self.score)\n",
    "    \n",
    "    \n",
    "    def getAllNaiveScores(self):\n",
    "        allNaiveScores=[]\n",
    "        for i in range(len(self.children)):\n",
    "            childsPlay=self.children[i].getAllNaiveScores()\n",
    "            for j in range(len(childsPlay['naiveScores'])):\n",
    "                allNaiveScores+=[childsPlay['naiveScores'][j]]\n",
    "        allNaiveScores+=[self.score]\n",
    "        return {'naiveScores': allNaiveScores}\n",
    "    \n",
    "    def getAllSmartScores(self):\n",
    "        allSmartScores=[]\n",
    "        for i in range(len(self.children)):\n",
    "            childsPlay=self.children[i].getAllSmartScores()\n",
    "            for j in range(len(childsPlay['smartScores'])):\n",
    "                allSmartScores+=[childsPlay['smartScores'][j]]\n",
    "        if(self.nextPlay==1 and len(self.children)>1):\n",
    "            for i in range(len(self.children)):\n",
    "                allSmartScores+=[self.children[i].getSmartScore()]\n",
    "        return {'smartScores': allSmartScores}\n",
    "    \n",
    "    def getOwnDecisions(self):\n",
    "        allHand1=[]\n",
    "        allHand2=[]\n",
    "        allWhos=[]\n",
    "        allPlays=[]\n",
    "        allNodeIDs=[]\n",
    "        for i in range(len(self.children)):\n",
    "            childsPlay=self.children[i].getOwnDecisions()\n",
    "            for j in range(len(childsPlay['hand1'])):\n",
    "                allHand1+=[childsPlay['hand1'][j]]\n",
    "                allHand2+=[childsPlay['hand2'][j]]\n",
    "                allWhos+=[childsPlay['whos'][j]]\n",
    "                allPlays+=[childsPlay['plays'][j]]\n",
    "                allNodeIDs+=[childsPlay['nodeIDs'][j]]\n",
    "        if(self.nextPlay==1 and len(self.children)>1):\n",
    "            for i in range(len(self.children)):\n",
    "                allHand1+=[self.children[i].hand1]\n",
    "                allHand2+=[self.children[i].hand2]\n",
    "                allWhos+=[self.children[i].whos]\n",
    "                allPlays+=[self.children[i].plays]\n",
    "                allNodeIDs+=[self.children[i].nodeID]\n",
    "        #elif(self.nextPlay==-1 and len(self.children)>1):\n",
    "            #maxIndex=0\n",
    "            #bestValue=-999\n",
    "            #for i in range(len(self.children)):\n",
    "            #    if self.children[i].predScore > bestValue:\n",
    "            #        maxIndex=i\n",
    "            #allHand1+=[self.children[maxIndex].hand1]\n",
    "            #allHand2+=[self.children[maxIndex].hand2]\n",
    "            #allWhos+=[self.children[maxIndex].whos]\n",
    "            #allPlays+=[self.children[maxIndex].plays]\n",
    "            #allNodeIDs+=[self.children[maxIndex].nodeID]\n",
    "        #elif self.nextPlay==1:\n",
    "        #    for i in range(len(self.children)):\n",
    "        #        allHand1+=[self.children[i].hand1]\n",
    "        #        allHand2+=[self.children[i].hand2]\n",
    "        #        allWhos+=[self.children[i].whos]\n",
    "        #        allPlays+=[self.children[i].plays]\n",
    "        #        allNodeIDs+=[self.children[i].nodeID]\n",
    "        return {'hand1': allHand1, 'hand2': allHand2, 'whos': allWhos, 'plays': allPlays, 'nodeIDs': allNodeIDs}\n",
    "\n",
    "\n",
    "    \n",
    "    def getOpponentDecisions(self):\n",
    "        allHand1=[]\n",
    "        allHand2=[]\n",
    "        allWhos=[]\n",
    "        allPlays=[]\n",
    "        allNodeIDs=[]\n",
    "        for i in range(len(self.children)):\n",
    "            childsPlay=self.children[i].getOpponentDecisions()\n",
    "            for j in range(len(childsPlay['hand1'])):\n",
    "                allHand1+=[childsPlay['hand1'][j]]\n",
    "                allHand2+=[childsPlay['hand2'][j]]\n",
    "                allWhos+=[childsPlay['whos'][j]]\n",
    "                allPlays+=[childsPlay['plays'][j]]\n",
    "                allNodeIDs+=[childsPlay['nodeIDs'][j]]\n",
    "        if(self.nextPlay==-1 and len(self.children)>1):\n",
    "            for i in range(len(self.children)):\n",
    "                allHand1+=[self.children[i].hand1]\n",
    "                allHand2+=[self.children[i].hand2]\n",
    "                allWhos+=[self.children[i].whos]\n",
    "                allPlays+=[self.children[i].plays]\n",
    "                allNodeIDs+=[self.children[i].nodeID]\n",
    "        return {'hand1': allHand1, 'hand2': allHand2, 'whos': allWhos, 'plays': allPlays, 'nodeIDs': allNodeIDs}\n",
    "\n",
    "    def getGamePlays(self):\n",
    "        if len(self.children)>1:\n",
    "            bestGuessIndex=0\n",
    "            bestGuessValue=-999\n",
    "            for i in range(len(self.children)):\n",
    "                if self.children[i].predScore>bestGuessValue:\n",
    "                    bestGuessValue=self.children[i].predScore\n",
    "                    bestGuessIndex=i\n",
    "            return self.children[bestGuessIndex].getGamePlays()\n",
    "        elif len(self.children)==1:\n",
    "            return self.children[0].getGamePlays()\n",
    "        else:\n",
    "            return(self.plays)\n",
    " "
   ]
  },
  {
   "cell_type": "code",
   "execution_count": 6,
   "metadata": {
    "collapsed": true
   },
   "outputs": [],
   "source": [
    "def newGame(x):\n",
    "    \n",
    "    #os.system(\"taskset -p 0xffffffff %d\" % os.getpid())\n",
    "    suits = '1 2 3 4'.split()\n",
    "    ranks = '2 3 4 5 6 7 8 9 10 11 12 13 1'.split()\n",
    "    deck  = [r + ' ' + s for s in suits for r in ranks]\n",
    "    n_players = 2\n",
    "    hand_size = 6\n",
    "\n",
    "    random.shuffle(deck)\n",
    "    #deals = deal(deck, n_players, hand_size)\n",
    "    deals=[[],[]]\n",
    "    deals[0] = list(map(int,[x[:-2] for x in deck[0:4]]))\n",
    "    deals[1] = list(map(int,[x[:-2] for x in deck[4:8]]))\n",
    "\n",
    "    return GameNode(deals[0],deals[1],[],[],random.choice([1,-1]),1)"
   ]
  },
  {
   "cell_type": "code",
   "execution_count": 7,
   "metadata": {
    "collapsed": true
   },
   "outputs": [],
   "source": [
    "def fillInNaive(gameNode):\n",
    "    #os.system(\"taskset -p 0xffffffff %d\" % os.getpid())\n",
    "    gameNode.expand()\n",
    "    gameNode.calcNaiveScore()\n",
    "    #print(\"done fill in - \", os.getpid())\n",
    "    return gameNode"
   ]
  },
  {
   "cell_type": "code",
   "execution_count": 8,
   "metadata": {
    "collapsed": true
   },
   "outputs": [],
   "source": [
    "def fillInSmart(gameNode):\n",
    "    #os.system(\"taskset -p 0xffffffff %d\" % os.getpid())\n",
    "    gameNode.expand()\n",
    "    #print(\"done fill in - \", os.getpid())\n",
    "    return gameNode"
   ]
  },
  {
   "cell_type": "code",
   "execution_count": 9,
   "metadata": {
    "collapsed": true
   },
   "outputs": [],
   "source": [
    "def getAll(gameNode):\n",
    "    #os.system(\"taskset -p 0xffffffff %d\" % os.getpid())\n",
    "    alls=gameNode.getAllPossibilities()\n",
    "    #print(\"done alls - \", os.getpid())\n",
    "    return(alls)"
   ]
  },
  {
   "cell_type": "code",
   "execution_count": 10,
   "metadata": {
    "collapsed": true
   },
   "outputs": [],
   "source": [
    "def getNaives(gameNode):\n",
    "    #os.system(\"taskset -p 0xffffffff %d\" % os.getpid())\n",
    "    naives=gameNode.getAllNaiveScores()\n",
    "    #print(\"done naives - \", os.getpid())\n",
    "    return(naives)"
   ]
  },
  {
   "cell_type": "code",
   "execution_count": 11,
   "metadata": {
    "collapsed": true
   },
   "outputs": [],
   "source": [
    "def getSmarts(inputDict):\n",
    "    #os.system(\"taskset -p 0xffffffff %d\" % os.getpid())\n",
    "    gameNode=inputDict['node']\n",
    "    gameNode.expand()\n",
    "    gameNode.updatePredScore(inputDict['update'])\n",
    "    gameNode.calcSmartScore()\n",
    "    smarts=gameNode.getAllSmartScores()\n",
    "    #print(\"done smarts - \", os.getpid())\n",
    "    return(smarts)"
   ]
  },
  {
   "cell_type": "code",
   "execution_count": 12,
   "metadata": {
    "collapsed": true
   },
   "outputs": [],
   "source": [
    "def getOpponents(gameNode):\n",
    "    #os.system(\"taskset -p 0xffffffff %d\" % os.getpid())\n",
    "    gameNode.expand()\n",
    "    opponents=gameNode.getOpponentDecisions()\n",
    "    #print(\"done opponents - \", os.getpid())\n",
    "    return(opponents)"
   ]
  },
  {
   "cell_type": "code",
   "execution_count": 13,
   "metadata": {
    "collapsed": true
   },
   "outputs": [],
   "source": [
    "def getOwns(inputDict):\n",
    "    #os.system(\"taskset -p 0xffffffff %d\" % os.getpid())\n",
    "    gameNode=inputDict['node']\n",
    "    gameNode.expand()\n",
    "    gameNode.updatePredScore(inputDict['update'])\n",
    "    gameNode.calcSmartScore()\n",
    "    owns=gameNode.getOwnDecisions()\n",
    "    #print(\"done owns - \", os.getpid())\n",
    "    return(owns)"
   ]
  },
  {
   "cell_type": "code",
   "execution_count": 14,
   "metadata": {
    "collapsed": true
   },
   "outputs": [],
   "source": [
    "def updateOpponent(inputDict):\n",
    "    #os.system(\"taskset -p 0xffffffff %d\" % os.getpid())\n",
    "    gameNode=inputDict['node']\n",
    "    gameNode.updatePredScore(inputDict['update'])\n",
    "    gameNode.calcSmartScore()\n",
    "    #print(\"done update - \", os.getpid())\n",
    "    return gameNode"
   ]
  },
  {
   "cell_type": "code",
   "execution_count": 15,
   "metadata": {
    "collapsed": true,
    "scrolled": true
   },
   "outputs": [],
   "source": [
    "pool=Pool(processes=24)"
   ]
  },
  {
   "cell_type": "code",
   "execution_count": null,
   "metadata": {
    "collapsed": true
   },
   "outputs": [],
   "source": []
  },
  {
   "cell_type": "code",
   "execution_count": 16,
   "metadata": {
    "collapsed": true
   },
   "outputs": [],
   "source": [
    "myHands=pool.map(newGame, range(400))\n",
    "\n",
    "filledInNaive=pool.map(fillInNaive, myHands)\n",
    "\n",
    "train_x_dict=pool.map(getAll, filledInNaive)\n",
    "train_y_dict=pool.map(getNaives, filledInNaive)\n",
    "\n",
    "train_xh1=[]\n",
    "train_xp=[]\n",
    "train_xw=[]\n",
    "\n",
    "for i in range(len(train_x_dict)):\n",
    "    train_xh1+=train_x_dict[i]['hand1']\n",
    "    train_xp+=train_x_dict[i]['plays']\n",
    "    train_xw+=train_x_dict[i]['whos']\n",
    "\n",
    "train_y=[]\n",
    "\n",
    "for i in range(len(train_y_dict)):\n",
    "    train_y+=train_y_dict[i]['naiveScores']"
   ]
  },
  {
   "cell_type": "code",
   "execution_count": 17,
   "metadata": {
    "collapsed": true
   },
   "outputs": [],
   "source": [
    "myHands=pool.map(newGame, range(100))\n",
    "\n",
    "\n",
    "test_x_dict=pool.map(getAll, filledInNaive)\n",
    "test_y_dict=pool.map(getNaives, filledInNaive)\n",
    "\n",
    "test_xh1=[]\n",
    "test_xp=[]\n",
    "test_xw=[]\n",
    "\n",
    "for i in range(len(test_x_dict)):\n",
    "    test_xh1+=test_x_dict[i]['hand1']\n",
    "    test_xp+=test_x_dict[i]['plays']\n",
    "    test_xw+=test_x_dict[i]['whos']\n",
    "\n",
    "test_y=[]\n",
    "\n",
    "for i in range(len(test_y_dict)):\n",
    "    test_y+=test_y_dict[i]['naiveScores']"
   ]
  },
  {
   "cell_type": "code",
   "execution_count": 18,
   "metadata": {
    "collapsed": true
   },
   "outputs": [],
   "source": [
    "\n",
    "hand_input = Input(shape=(4,), dtype='float32', name='hand_input')\n",
    "plays_input = Input(shape=(10,), dtype='float32', name='plays_input')\n",
    "whos_input = Input(shape=(10,), dtype='float32', name='whos_input')\n",
    "\n",
    "allins = keras.layers.concatenate([hand_input, plays_input, whos_input])\n",
    "\n",
    "# We stack a deep densely-connected network on top\n",
    "x = Dense(120, activation='relu')(allins)\n",
    "x = Dense(120, activation='relu')(x)\n",
    "x = Dense(120, activation='relu')(x)\n",
    "x = Dense(120, activation='relu')(x)\n",
    "x = Dense(120, activation='relu')(x)\n",
    "x = Dense(120, activation='relu')(x)\n",
    "x = Dense(64, activation='relu')(x)\n",
    "x = Dense(64, activation='relu')(x)\n",
    "x = Dense(64, activation='relu')(x)\n",
    "x = Dense(64, activation='relu')(x)\n",
    "x = Dense(64, activation='relu')(x)\n",
    "\n",
    "main_output = Dense(1, activation='linear', name='main_output')(x)\n",
    "\n",
    "model = Model(inputs=[hand_input, plays_input, whos_input], outputs=[main_output])"
   ]
  },
  {
   "cell_type": "code",
   "execution_count": 19,
   "metadata": {
    "collapsed": true
   },
   "outputs": [],
   "source": [
    "model.compile(optimizer='adam', loss='mean_squared_error')\n",
    "datadict= {\"train_x\": [np.array(train_xh1),numpy_fillna(train_xp),numpy_fillna(train_xw)], \"train_y\": [np.array(train_y)], \"test_set\": [[np.array(test_xh1),numpy_fillna(test_xp),numpy_fillna(test_xw)], [np.array(test_y)]] }"
   ]
  },
  {
   "cell_type": "code",
   "execution_count": 20,
   "metadata": {},
   "outputs": [
    {
     "name": "stdout",
     "output_type": "stream",
     "text": [
      "Train on 351186 samples, validate on 351186 samples\n",
      "Epoch 1/8\n",
      "351186/351186 [==============================] - 5s 13us/step - loss: 4.4297 - val_loss: 4.0012\n",
      "Epoch 2/8\n",
      "351186/351186 [==============================] - 4s 12us/step - loss: 3.8844 - val_loss: 3.7698\n",
      "Epoch 3/8\n",
      "351186/351186 [==============================] - 4s 12us/step - loss: 3.6655 - val_loss: 3.6113\n",
      "Epoch 4/8\n",
      "351186/351186 [==============================] - 4s 12us/step - loss: 3.5021 - val_loss: 3.4085\n",
      "Epoch 5/8\n",
      "351186/351186 [==============================] - 4s 12us/step - loss: 3.3756 - val_loss: 3.2784\n",
      "Epoch 6/8\n",
      "351186/351186 [==============================] - 4s 12us/step - loss: 3.2449 - val_loss: 3.1697\n",
      "Epoch 7/8\n",
      "351186/351186 [==============================] - 4s 12us/step - loss: 3.1452 - val_loss: 3.0625\n",
      "Epoch 8/8\n",
      "351186/351186 [==============================] - 4s 12us/step - loss: 3.0103 - val_loss: 2.9539\n"
     ]
    },
    {
     "data": {
      "text/plain": [
       "<keras.callbacks.History at 0x7fab35e4e470>"
      ]
     },
     "execution_count": 20,
     "metadata": {},
     "output_type": "execute_result"
    }
   ],
   "source": [
    "model.fit(datadict[\"train_x\"], datadict[\"train_y\"],validation_data=datadict[\"test_set\"],epochs=8, batch_size=1500)"
   ]
  },
  {
   "cell_type": "code",
   "execution_count": null,
   "metadata": {
    "collapsed": true
   },
   "outputs": [],
   "source": [
    "startTime = time.time()\n",
    "myHands=pool.map(newGame, range(80000))\n",
    "print(\"milestone\",time.time()-startTime)\n",
    "#filledInSmart=pool.map(fillInSmart, myHands)\n",
    "#print(\"milestone\",time.time()-startTime)\n",
    "opponentDecisions=pool.map(getOpponents, myHands)\n",
    "print(\"milestone\",time.time()-startTime)"
   ]
  },
  {
   "cell_type": "code",
   "execution_count": null,
   "metadata": {
    "collapsed": true
   },
   "outputs": [],
   "source": [
    "predict_xh1=opponentDecisions[0]['hand2']\n",
    "predict_xp=opponentDecisions[0]['plays']\n",
    "predict_xw=opponentDecisions[0]['whos']\n",
    "predict_treelens=[len(opponentDecisions[0]['whos'])]\n",
    "\n",
    "for i in range(1,len(opponentDecisions)):\n",
    "    predict_xh1+=opponentDecisions[i]['hand2']\n",
    "    predict_xp+=opponentDecisions[i]['plays']\n",
    "    predict_xw+=opponentDecisions[i]['whos']\n",
    "    predict_treelens+=[predict_treelens[-1]+len(opponentDecisions[i]['whos'])]\n",
    "\n",
    "print(\"milestone\",time.time()-startTime)\n",
    "# fix with the for j in i in x for i in j thing\n"
   ]
  },
  {
   "cell_type": "code",
   "execution_count": null,
   "metadata": {
    "collapsed": true
   },
   "outputs": [],
   "source": [
    "opponentBests=model.predict([np.array(predict_xh1),numpy_fillna(predict_xp),-1*numpy_fillna(predict_xw)])\n",
    "print(\"milestone\",time.time()-startTime)"
   ]
  },
  {
   "cell_type": "code",
   "execution_count": null,
   "metadata": {
    "collapsed": true
   },
   "outputs": [],
   "source": [
    "resultsByTree=np.split(np.squeeze(opponentBests), predict_treelens)\n",
    "print(\"milestone\",time.time()-startTime)"
   ]
  },
  {
   "cell_type": "code",
   "execution_count": null,
   "metadata": {
    "collapsed": true
   },
   "outputs": [],
   "source": [
    "feedbackForNodes=[]\n",
    "for i in range(len(opponentDecisions)):\n",
    "    feedbackForNodes+=[dict(zip(opponentDecisions[i]['nodeIDs'], resultsByTree[i]))]\n",
    "print(\"milestone\",time.time()-startTime)"
   ]
  },
  {
   "cell_type": "code",
   "execution_count": null,
   "metadata": {
    "collapsed": true
   },
   "outputs": [],
   "source": [
    "toPool=[]\n",
    "for i in range(len(opponentDecisions)):\n",
    "    toPool+=[{'node': myHands[i], 'update': feedbackForNodes[i]}]\n",
    "print(\"milestone\",time.time()-startTime)\n",
    "#smartOpponent=pool.map(updateOpponent, toPool)\n",
    "#print(\"milestone\",time.time()-startTime)"
   ]
  },
  {
   "cell_type": "code",
   "execution_count": null,
   "metadata": {
    "collapsed": true
   },
   "outputs": [],
   "source": [
    "train_x_dict=pool.map(getOwns, toPool)\n",
    "print(\"milestone\",time.time()-startTime)\n",
    "train_y_dict=pool.map(getSmarts, toPool)\n",
    "print(\"milestone\",time.time()-startTime)\n",
    "\n",
    "train_xh1=[]\n",
    "train_xp=[]\n",
    "train_xw=[]\n",
    "\n",
    "for i in range(len(train_x_dict)):\n",
    "    train_xh1+=train_x_dict[i]['hand1']\n",
    "    train_xp+=train_x_dict[i]['plays']\n",
    "    train_xw+=train_x_dict[i]['whos']\n",
    "\n",
    "print(\"milestone\",time.time()-startTime)\n",
    "train_y=[]\n",
    "\n",
    "for i in range(len(train_y_dict)):\n",
    "    train_y+=train_y_dict[i]['smartScores']\n",
    "print(\"milestone\",time.time()-startTime)"
   ]
  },
  {
   "cell_type": "code",
   "execution_count": null,
   "metadata": {
    "collapsed": true
   },
   "outputs": [],
   "source": [
    "myHands=pool.map(newGame, range(3000))\n",
    "print(\"milestone\",time.time()-startTime)\n",
    "#filledInNaive=pool.map(fillInNaive, myHands)\n",
    "#print(\"milestone\",time.time()-startTime)\n",
    "opponentDecisions=pool.map(getOpponents, myHands)\n",
    "print(\"milestone\",time.time()-startTime)"
   ]
  },
  {
   "cell_type": "code",
   "execution_count": null,
   "metadata": {
    "collapsed": true
   },
   "outputs": [],
   "source": [
    "predict_xh1=opponentDecisions[0]['hand2']\n",
    "predict_xp=opponentDecisions[0]['plays']\n",
    "predict_xw=opponentDecisions[0]['whos']\n",
    "predict_treelens=[len(opponentDecisions[0]['whos'])]\n",
    "\n",
    "for i in range(1,len(opponentDecisions)):\n",
    "    predict_xh1+=opponentDecisions[i]['hand2']\n",
    "    predict_xp+=opponentDecisions[i]['plays']\n",
    "    predict_xw+=opponentDecisions[i]['whos']\n",
    "    predict_treelens+=[predict_treelens[-1]+len(opponentDecisions[i]['whos'])]\n",
    "    \n",
    "print(\"milestone\",time.time()-startTime)\n",
    "opponentBests=model.predict([np.array(predict_xh1),numpy_fillna(predict_xp),-1*numpy_fillna(predict_xw)])\n",
    "\n",
    "print(\"milestone\",time.time()-startTime)\n",
    "resultsByTree=np.split(np.squeeze(opponentBests), predict_treelens)\n",
    "\n",
    "print(\"milestone\",time.time()-startTime)\n",
    "feedbackForNodes=[]\n",
    "for i in range(len(opponentDecisions)):\n",
    "    feedbackForNodes+=[dict(zip(opponentDecisions[i]['nodeIDs'], resultsByTree[i]))]\n",
    "    \n",
    "print(\"milestone\",time.time()-startTime)\n",
    "toPool=[]\n",
    "for i in range(len(opponentDecisions)):\n",
    "    toPool+=[{'node': myHands[i], 'update': feedbackForNodes[i]}]\n",
    "\n",
    "print(\"milestone\",time.time()-startTime)\n",
    "test_x_dict=pool.map(getOwns, toPool)\n",
    "print(\"milestone\",time.time()-startTime)\n",
    "test_y_dict=pool.map(getSmarts, toPool)\n",
    "print(\"milestone\",time.time()-startTime)\n",
    "test_xh1=[]\n",
    "test_xp=[]\n",
    "test_xw=[]\n",
    "\n",
    "for i in range(len(test_x_dict)):\n",
    "    test_xh1+=test_x_dict[i]['hand1']\n",
    "    test_xp+=test_x_dict[i]['plays']\n",
    "    test_xw+=test_x_dict[i]['whos']\n",
    "\n",
    "print(\"milestone\",time.time()-startTime)\n",
    "test_y=[]\n",
    "\n",
    "for i in range(len(test_y_dict)):\n",
    "    test_y+=test_y_dict[i]['smartScores']\n",
    "print(\"milestone\",time.time()-startTime)"
   ]
  },
  {
   "cell_type": "code",
   "execution_count": null,
   "metadata": {
    "collapsed": true
   },
   "outputs": [],
   "source": [
    "\n",
    "hand_input = Input(shape=(4,), dtype='float32', name='hand_input')\n",
    "plays_input = Input(shape=(10,), dtype='float32', name='plays_input')\n",
    "whos_input = Input(shape=(10,), dtype='float32', name='whos_input')\n",
    "\n",
    "allins = keras.layers.concatenate([hand_input, plays_input, whos_input])\n",
    "\n",
    "# We stack a deep densely-connected network on top\n",
    "x = Dense(240, activation='relu')(allins)\n",
    "x = Dense(240, activation='relu')(x)\n",
    "x = Dense(240, activation='relu')(x)\n",
    "x = Dense(240, activation='relu')(x)\n",
    "x = Dense(120, activation='relu')(x)\n",
    "x = Dense(120, activation='relu')(x)\n",
    "x = Dense(120, activation='relu')(x)\n",
    "x = Dense(120, activation='relu')(x)\n",
    "x = Dense(64, activation='relu')(x)\n",
    "x = Dense(64, activation='relu')(x)\n",
    "x = Dense(64, activation='relu')(x)\n",
    "x = Dense(64, activation='relu')(x)\n",
    "\n",
    "main_output = Dense(1, activation='linear', name='main_output')(x)\n",
    "\n",
    "model = Model(inputs=[hand_input, plays_input, whos_input], outputs=[main_output])\n",
    "\n",
    "model.compile(optimizer='adam', loss='mean_squared_error')\n",
    "datadict= {\"train_x\": [np.array(train_xh1),numpy_fillna(train_xp),numpy_fillna(train_xw)], \"train_y\": [np.array(train_y)], \"test_set\": [[np.array(test_xh1),numpy_fillna(test_xp),numpy_fillna(test_xw)], [np.array(test_y)]] }\n",
    "\n",
    "\n"
   ]
  },
  {
   "cell_type": "code",
   "execution_count": null,
   "metadata": {
    "collapsed": true
   },
   "outputs": [],
   "source": [
    "model.fit(datadict[\"train_x\"], datadict[\"train_y\"],validation_data=datadict[\"test_set\"],epochs=64, batch_size=4096)"
   ]
  },
  {
   "cell_type": "code",
   "execution_count": 66,
   "metadata": {
    "collapsed": true
   },
   "outputs": [],
   "source": [
    "myBests=model.predict(datadict['test_set'][0])"
   ]
  },
  {
   "cell_type": "code",
   "execution_count": null,
   "metadata": {
    "collapsed": true
   },
   "outputs": [],
   "source": [
    "\n",
    "test_treelens=[len(test_x_dict[0]['whos'])]\n",
    "for i in range(len(test_x_dict)):\n",
    "    test_treelens+=[test_treelens[-1]+len(test_x_dict[0]['whos'])]\n",
    "\n",
    "resultsByTree=np.split(np.squeeze(myBests), test_treelens)\n",
    "\n",
    "feedbackForNodes=[]\n",
    "for i in range(len(test_x_dict)):\n",
    "    feedbackForNodes+=[dict(zip(test_x_dict[i]['nodeIDs'], resultsByTree[i]))]\n",
    "    \n",
    "toPool=[]\n",
    "for i in range(len(test_x_dict)):\n",
    "    toPool+=[{'node': myHands[i], 'update': feedbackForNodes[i]}]\n",
    "\n",
    "playedGames=pool.map(updateOpponent, toPool)"
   ]
  },
  {
   "cell_type": "code",
   "execution_count": null,
   "metadata": {
    "collapsed": true
   },
   "outputs": [],
   "source": [
    "for i in range(0,20):\n",
    "    playedGames[i].expand()\n",
    "    playedGames[i].updatePredScore(toPool[i]['update'])\n",
    "    playedGames[i].calcSmartScore()\n",
    "    print(playedGames[i].hand1)\n",
    "    print(\"    \",playedGames[i].getGamePlays())\n",
    "    print(playedGames[i].hand2)\n",
    "    print()"
   ]
  },
  {
   "cell_type": "code",
   "execution_count": 35,
   "metadata": {},
   "outputs": [
    {
     "name": "stdout",
     "output_type": "stream",
     "text": [
      "milestone 0.0004684925079345703\n"
     ]
    }
   ],
   "source": [
    "startTime=time.time()\n",
    "pegScore(playedGames[3].getGamePlays(),[1,-1,1,-1,1,-1,1])\n",
    "print(\"milestone\",time.time()-startTime)"
   ]
  },
  {
   "cell_type": "code",
   "execution_count": null,
   "metadata": {
    "collapsed": true
   },
   "outputs": [],
   "source": []
  },
  {
   "cell_type": "code",
   "execution_count": 36,
   "metadata": {},
   "outputs": [
    {
     "data": {
      "text/plain": [
       "[[[0.0, -0.5695962309837341]],\n",
       " [[5.0, 0.4181666672229767]],\n",
       " [[-1.0, 2.0535085201263428]],\n",
       " [[-1.0, 0.6344148516654968]],\n",
       " [[2.0, -0.04507308453321457]],\n",
       " [[2.0, 0.8911491632461548]],\n",
       " [[2.0, 0.0015973364934325218]],\n",
       " [[2.0, 0.7039861083030701]],\n",
       " [[3.0, 2.7057178020477295]],\n",
       " [[0.0, 0.2716579735279083]],\n",
       " [[2.0, -0.026550043374300003]],\n",
       " [[2.0, 0.7155171036720276]],\n",
       " [[3.0, 1.6765328645706177]],\n",
       " [[-2.0, 1.334180235862732]],\n",
       " [[3.0, 3.3237345218658447]],\n",
       " [[0.0, 3.2794463634490967]],\n",
       " [[2.0, 2.753183126449585]],\n",
       " [[2.0, 2.777379274368286]],\n",
       " [[5.0, 1.0780729055404663]],\n",
       " [[3.0, 0.8146477341651917]],\n",
       " [[3.0, 1.832063913345337]],\n",
       " [[3.0, 0.0054682036861777306]],\n",
       " [[8.0, 0.6865803599357605]],\n",
       " [[2.0, 1.6962850093841553]],\n",
       " [[2.0, 0.5921041369438171]],\n",
       " [[5.0, 0.05608172342181206]],\n",
       " [[5.0, 1.1844444274902344]],\n",
       " [[2.0, -0.01839974895119667]],\n",
       " [[2.0, 0.0476880744099617]],\n",
       " [[-1.0, 1.825950264930725]],\n",
       " [[4.0, 0.15478982031345367]],\n",
       " [[2.0, -0.2261795550584793]],\n",
       " [[3.0, 0.5878245234489441]],\n",
       " [[6.0, 1.4913424253463745]],\n",
       " [[1.0, 1.3407026529312134]],\n",
       " [[2.0, 1.1275221109390259]],\n",
       " [[7.0, 1.73117196559906]],\n",
       " [[5.0, 2.0484304428100586]],\n",
       " [[6.0, 1.7147940397262573]],\n",
       " [[8.0, 1.8911824226379395]],\n",
       " [[4.0, 1.3581018447875977]],\n",
       " [[7.0, 2.088585138320923]],\n",
       " [[3.0, 3.0210952758789062]],\n",
       " [[2.0, 3.8116164207458496]],\n",
       " [[3.0, 2.7358877658843994]],\n",
       " [[3.0, 3.9709489345550537]],\n",
       " [[3.0, 1.4248977899551392]],\n",
       " [[3.0, 2.1371495723724365]],\n",
       " [[4.0, 2.274827718734741]],\n",
       " [[3.0, 2.686917543411255]],\n",
       " [[0.0, 2.0932276248931885]],\n",
       " [[7.0, 1.927325963973999]],\n",
       " [[4.0, 0.7744100093841553]],\n",
       " [[4.0, 1.163948655128479]],\n",
       " [[1.0, 1.0037332773208618]],\n",
       " [[0.0, 0.6831027269363403]],\n",
       " [[-3.0, 1.143716812133789]],\n",
       " [[4.0, 1.0615284442901611]],\n",
       " [[1.0, 1.217117190361023]],\n",
       " [[1.0, 0.7552641034126282]],\n",
       " [[3.0, 3.31490159034729]],\n",
       " [[7.0, 2.7132046222686768]],\n",
       " [[4.0, 1.7678052186965942]],\n",
       " [[4.0, 1.6998792886734009]],\n",
       " [[2.0, 1.3473635911941528]],\n",
       " [[4.0, 1.820852279663086]],\n",
       " [[3.0, 1.8245006799697876]],\n",
       " [[1.0, 1.1859571933746338]],\n",
       " [[1.0, 1.248960256576538]],\n",
       " [[2.0, 0.17427170276641846]],\n",
       " [[2.0, 0.7876689434051514]],\n",
       " [[2.0, 0.09235291182994843]],\n",
       " [[3.0, 0.5901122689247131]],\n",
       " [[3.0, 2.7343780994415283]],\n",
       " [[1.0, 1.8668336868286133]],\n",
       " [[2.0, 0.8394641876220703]],\n",
       " [[2.0, 0.6406337022781372]],\n",
       " [[2.0, 0.9243350625038147]],\n",
       " [[3.0, 0.4609040915966034]],\n",
       " [[3.0, 1.815102219581604]],\n",
       " [[1.0, 0.6362559795379639]],\n",
       " [[4.0, 1.9602035284042358]],\n",
       " [[3.0, 0.7670760750770569]],\n",
       " [[3.0, 0.07900106906890869]],\n",
       " [[1.0, -1.035643219947815]],\n",
       " [[5.0, 0.46779492497444153]],\n",
       " [[6.0, 2.20933198928833]],\n",
       " [[2.0, 1.2673460245132446]],\n",
       " [[2.0, -0.015578665770590305]],\n",
       " [[2.0, 1.0671390295028687]],\n",
       " [[3.0, 1.7984126806259155]],\n",
       " [[7.0, 1.2042428255081177]],\n",
       " [[6.0, 1.721312403678894]],\n",
       " [[7.0, 0.35729503631591797]],\n",
       " [[5.0, -0.011508581228554249]],\n",
       " [[5.0, 0.6966649889945984]],\n",
       " [[4.0, 2.472853422164917]],\n",
       " [[4.0, 0.15434135496616364]],\n",
       " [[0.0, 1.888938069343567]],\n",
       " [[5.0, 3.6528918743133545]]]"
      ]
     },
     "execution_count": 36,
     "metadata": {},
     "output_type": "execute_result"
    }
   ],
   "source": [
    "np.stack((datadict['test_set'][1][0][0:100], myBests[0:100]), axis=-1).tolist()"
   ]
  },
  {
   "cell_type": "code",
   "execution_count": 26,
   "metadata": {},
   "outputs": [
    {
     "data": {
      "text/plain": [
       "<multiprocess.pool.Pool at 0x7fe2fbbbba90>"
      ]
     },
     "execution_count": 26,
     "metadata": {},
     "output_type": "execute_result"
    }
   ],
   "source": [
    "pool.restart()"
   ]
  },
  {
   "cell_type": "code",
   "execution_count": 49,
   "metadata": {},
   "outputs": [
    {
     "data": {
      "text/plain": [
       "120099"
      ]
     },
     "execution_count": 49,
     "metadata": {},
     "output_type": "execute_result"
    }
   ],
   "source": [
    "import pickle\n",
    "len(pickle.dumps(listOfHands))"
   ]
  },
  {
   "cell_type": "code",
   "execution_count": 29,
   "metadata": {
    "collapsed": true
   },
   "outputs": [],
   "source": [
    "listOfHands=[]\n",
    "for i in range(100):\n",
    "    listOfHands+=[pool.map(newGame, range(10))]"
   ]
  },
  {
   "cell_type": "code",
   "execution_count": 30,
   "metadata": {},
   "outputs": [
    {
     "name": "stdout",
     "output_type": "stream",
     "text": [
      "milestone 4.1144866943359375\n"
     ]
    }
   ],
   "source": [
    "startTime = time.time()\n",
    "q=pool.map(getSmartList,listOfHands)\n",
    "print(\"milestone\",time.time()-startTime)"
   ]
  },
  {
   "cell_type": "code",
   "execution_count": 20,
   "metadata": {
    "collapsed": true
   },
   "outputs": [],
   "source": [
    "def getSmartList(x):\n",
    "    for i in range(len(x)):\n",
    "        x[i].expand()\n",
    "    return x[i]"
   ]
  },
  {
   "cell_type": "code",
   "execution_count": 29,
   "metadata": {
    "collapsed": true
   },
   "outputs": [],
   "source": [
    "pool=Pool(processes=24)"
   ]
  },
  {
   "cell_type": "code",
   "execution_count": 28,
   "metadata": {
    "collapsed": true
   },
   "outputs": [],
   "source": [
    "pool.terminate()"
   ]
  },
  {
   "cell_type": "code",
   "execution_count": 73,
   "metadata": {},
   "outputs": [
    {
     "data": {
      "text/plain": [
       "'expanded[]'"
      ]
     },
     "execution_count": 73,
     "metadata": {},
     "output_type": "execute_result"
    }
   ],
   "source": [
    "playedGames[0].expand()"
   ]
  },
  {
   "cell_type": "code",
   "execution_count": null,
   "metadata": {
    "collapsed": true
   },
   "outputs": [],
   "source": []
  }
 ],
 "metadata": {
  "kernelspec": {
   "display_name": "Python 3",
   "language": "python",
   "name": "python3"
  },
  "language_info": {
   "codemirror_mode": {
    "name": "ipython",
    "version": 3
   },
   "file_extension": ".py",
   "mimetype": "text/x-python",
   "name": "python",
   "nbconvert_exporter": "python",
   "pygments_lexer": "ipython3",
   "version": "3.4.5"
  }
 },
 "nbformat": 4,
 "nbformat_minor": 2
}
