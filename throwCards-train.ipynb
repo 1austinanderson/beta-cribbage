{
 "cells": [
  {
   "cell_type": "code",
   "execution_count": 1,
   "metadata": {},
   "outputs": [
    {
     "name": "stderr",
     "output_type": "stream",
     "text": [
      "Using TensorFlow backend.\n"
     ]
    }
   ],
   "source": [
    "import sys\n",
    "from collections import namedtuple, Counter\n",
    "from itertools import combinations, starmap\n",
    "from numpy import *\n",
    "import random\n",
    "import itertools\n",
    "\n",
    "import matplotlib.mlab as mlab\n",
    "import matplotlib.pyplot as plt\n",
    "\n",
    "\n",
    "from keras.layers import Input, Embedding, LSTM, Dense\n",
    "from keras.models import Model\n",
    "import keras\n",
    "from keras.models import Sequential\n",
    "from keras.layers import Dense\n",
    "from keras import *\n",
    "\n",
    "import pickle\n",
    "\n",
    "import numpy as np\n",
    "import collections\n",
    "import time\n",
    "import operator\n",
    "SUITS = [\"1\", \"2\", \"3\", \"4\"]\n",
    "RANKS = [\"1\", \"2\", \"3\", \"4\", \"5\", \"6\", \"7\", \"8\", \"9\", \"10\", \"11\", \"12\", \"13\"]\n",
    "VALUES = [1, 2, 3, 4, 5, 6, 7, 8, 9 , 10, 10, 10, 10]\n",
    "val_dict = dict(zip(RANKS, VALUES))\n",
    "\n",
    "\n",
    "#from pathos.multiprocessing import ProcessingPool as Pool\n",
    "from operator import add\n"
   ]
  },
  {
   "cell_type": "code",
   "execution_count": 2,
   "metadata": {
    "collapsed": true
   },
   "outputs": [],
   "source": [
    "def random_combination(iterable, r):\n",
    "    \"Random selection from itertools.combinations(iterable, r)\"\n",
    "    pool = tuple(iterable)\n",
    "    n = len(pool)\n",
    "    indices = sorted(random.sample(range(n), r))\n",
    "    return tuple(pool[i] for i in indices)\n",
    "\n",
    "def scoreHand(hand):\n",
    "    _handRanks = [x[:-2] for x in hand]\n",
    "    _handSuits = [x[-1:] for x in hand]\n",
    "    #print(_handSuits)\n",
    "    score = 0\n",
    "\n",
    "    ## pairs, trips, quads\n",
    "    duplicates = {x:y for x, y in collections.Counter(_handRanks).items() if y > 1}\n",
    "    for v in duplicates:\n",
    "        if duplicates[v] == 2:\n",
    "            score = score + 2\n",
    "        elif duplicates[v] == 3:\n",
    "            score = score + 6\n",
    "        elif duplicates[v] == 4:\n",
    "            score = score + 12\n",
    "\n",
    "    #print(\"Score from pairs: \"+str(score))\n",
    "    handCombinations = []\n",
    "    for i in range(2, 5):\n",
    "        els = [list(x) for x in itertools.combinations(_handRanks, i)]\n",
    "        handCombinations.extend(els)\n",
    "\n",
    "    ## 15s\n",
    "    fifteenScore = 0\n",
    "    for combo in handCombinations:\n",
    "        comboScore = 0\n",
    "        for i in range(0, len(combo)):\n",
    "            cardValue = val_dict[combo[i]]\n",
    "            comboScore = comboScore + cardValue\n",
    "\n",
    "        if comboScore == 15:\n",
    "            #print(\"Fifteen for 2: \" + str(combo))\n",
    "            score = score + 2\n",
    "            fifteenScore = fifteenScore + 2\n",
    "\n",
    "    #print(\"Score from 15s: \"+str(fifteenScore))\n",
    "\n",
    "    # flush\n",
    "    if (sum(x == _handSuits[0] for x in _handSuits))==5:\n",
    "        score = score + 5\n",
    "    #    print(\"flush 5\")\n",
    "    elif (sum(x == _handSuits[0] for x in _handSuits[0:4]))==4:\n",
    "        score = score + 4\n",
    "    #    print(\"flush 4\")\n",
    "\n",
    "    # Nob can be calculated here, but I'm not really sure we need that .. yet?\n",
    "\n",
    "    ## runs ... oh god why\n",
    "\n",
    "    numerRanks = [int(x[:-2]) for x in hand]\n",
    "    \n",
    "    if sum(numerRanks)*1.0 == ((max(numerRanks)*(max(numerRanks)+1)/2-min(numerRanks)*(min(numerRanks)-1)/2)) and len(_handRanks)==len(set(numerRanks)):\n",
    "    #    print(\"run of 5\")\n",
    "        score = score + 5\n",
    "    else:\n",
    "        y=0\n",
    "        for i in itertools.combinations(numerRanks, 4):\n",
    "            if sum(i)*1.0 == ((max(i)*(max(i)+1)/2-min(i)*(min(i)-1)/2)) and len(i)==len(set(i)):\n",
    "                #            print(\"run of 4\")\n",
    "                score = score + 4\n",
    "                y+=1\n",
    "        if y==0:\n",
    "            for i in itertools.combinations(numerRanks, 3):\n",
    "                if sum(i)*1.0 == ((max(i)*(max(i)+1)/2-min(i)*(min(i)-1)/2)) and len(i)==len(set(i)):\n",
    "                    #            print(\"run of 3\")\n",
    "                    score = score + 3\n",
    "                    y+=1\n",
    "            \n",
    "\n",
    "    return score\n",
    "\n",
    "\n",
    "def index(subseq, seq):\n",
    "    \"\"\"Return an index of `subseq`uence in the `seq`uence.\n",
    "\n",
    "    Or `-1` if `subseq` is not a subsequence of the `seq`.\n",
    "\n",
    "    The time complexity of the algorithm is O(n*m), where\n",
    "\n",
    "        n, m = len(seq), len(subseq)\n",
    "\n",
    "    >>> index([1,2], range(5))\n",
    "    1\n",
    "    >>> index(range(1, 6), range(5))\n",
    "    -1\n",
    "    >>> index(range(5), range(5))\n",
    "    0\n",
    "    >>> index([1,2], [0, 1, 0, 1, 2])\n",
    "    3\n",
    "    \"\"\"\n",
    "    i, n, m = -1, len(seq), len(subseq)\n",
    "    try:\n",
    "        while True:\n",
    "            i = seq.index(subseq[0], i + 1, n - m + 1)\n",
    "            if subseq == seq[i:i + m]:\n",
    "                return i\n",
    "    except ValueError:\n",
    "        return -1\n",
    "\n",
    "\n"
   ]
  },
  {
   "cell_type": "code",
   "execution_count": 3,
   "metadata": {
    "collapsed": true
   },
   "outputs": [],
   "source": [
    "def calcMarginsFromModelMod(_dealtToMe, _theyKept, _theyThrew, _flipCard, _whoseCrib, modelIn):\n",
    "    \n",
    "    scores=[]\n",
    "     \n",
    "    for t in range(len(_dealtToMe)):\n",
    "        \n",
    "        subScore=0\n",
    "        \n",
    "        dealtToMe=_dealtToMe[t]\n",
    "        theyKept=_theyKept[t]\n",
    "        theyThrew=_theyThrew[t]\n",
    "\n",
    "        whoseCrib=_whoseCrib[t]\n",
    " \n",
    "\n",
    "        suits = '1 2 3 4'.split()\n",
    "        ranks = '2 3 4 5 6 7 8 9 10 11 12 13 1'.split()\n",
    "        deck  = [r + ' ' + s for s in suits for r in ranks]\n",
    "\n",
    "        for j in range(len(dealtToMe)):\n",
    "            deck.remove(dealtToMe[j])\n",
    "\n",
    "        for j in range(len(theyKept)):\n",
    "            deck.remove(theyKept[j])\n",
    "\n",
    "        for j in range(len(theyThrew)):\n",
    "            deck.remove(theyThrew[j])\n",
    "      \n",
    "\n",
    "\n",
    "        aiHands = [[] for _ in range(15)]\n",
    "        aiKeeps = [[] for _ in range(15)]\n",
    "        aiThrows = [[] for _ in range(15)]\n",
    "        \n",
    "        i=0\n",
    "        for subset in itertools.combinations(dealtToMe, 2):\n",
    "            y = dealtToMe[:]\n",
    "            y.remove(subset[0])\n",
    "            y.remove(subset[1])\n",
    "            aiKeeps[i]=list(y)\n",
    "            aiThrows[i]=list(subset)\n",
    "            aiHands[i]=list(y)+list(subset)\n",
    "            i+=1\n",
    "\n",
    "        numericalHands=[]\n",
    "        for q in range(len(aiHands)):\n",
    "            hand=aiHands[q]\n",
    "            numericalHands+=[[whoseCrib]+[int(i.split(' ', 1)[0]) for i in hand]+[int(i.split(' ', 1)[1]) for i in hand] ]\n",
    "        #print(numericalHands)\n",
    "        aiouts=modelIn.predict(numericalHands)\n",
    "        index, value = max(enumerate(aiouts), key=operator.itemgetter(1))\n",
    "\n",
    "        aiwin=numericalHands[index]\n",
    "\n",
    "        aiKept=aiKeeps[index]\n",
    "        aiThrew=aiThrows[index]\n",
    "\n",
    "        for j in range(len(deck)):\n",
    "            flipCard=deck[j]\n",
    "            all1=aiKept+[flipCard]\n",
    "            all2=theyKept+[flipCard]\n",
    "            allc=aiThrew+theyThrew+[flipCard]\n",
    "\n",
    "            aiscore1=scoreHand(all1)\n",
    "            aiscore2=scoreHand(all2)\n",
    "            aiscorec=scoreHand(allc)\n",
    "\n",
    "            subScore+=aiscore1-aiscore2+whoseCrib*aiscorec\n",
    "        scores+=[subScore/len(deck)]\n",
    "    return scores\n",
    "    \n",
    "    "
   ]
  },
  {
   "cell_type": "code",
   "execution_count": 4,
   "metadata": {
    "collapsed": true
   },
   "outputs": [],
   "source": [
    "def calcMarginsFromSinglePlay(_iKept, _iThrew, _theyKept, _theyThrew, _whoseCrib, modelIn):\n",
    "    \n",
    "    score=0\n",
    "\n",
    "    suits = '1 2 3 4'.split()\n",
    "    ranks = '2 3 4 5 6 7 8 9 10 11 12 13 1'.split()\n",
    "    deck  = [r + ' ' + s for s in suits for r in ranks]\n",
    "\n",
    "    for j in range(len(_iKept)):\n",
    "        deck.remove(_iKept[j])\n",
    "\n",
    "    for j in range(len(_iThrew)):\n",
    "        deck.remove(_iThrew[j])\n",
    "\n",
    "    for j in range(len(_theyKept)):\n",
    "        deck.remove(_theyKept[j])\n",
    "\n",
    "    for j in range(len(_theyThrew)):\n",
    "        deck.remove(_theyThrew[j])\n",
    "\n",
    "    for j in range(len(deck)):\n",
    "        flipCard=deck[j]\n",
    "        all1=_iKept+[flipCard]\n",
    "        all2=_theyKept+[flipCard]\n",
    "        allc=_iThrew+_theyThrew+[flipCard]\n",
    "\n",
    "        iscore1=scoreHand(all1)\n",
    "        iscore2=scoreHand(all2)\n",
    "        iscorec=scoreHand(allc)\n",
    "\n",
    "        score+=iscore1-iscore2+_whoseCrib*iscorec\n",
    "\n",
    "    return score/len(deck)\n",
    "    \n",
    "    "
   ]
  },
  {
   "cell_type": "code",
   "execution_count": 5,
   "metadata": {
    "collapsed": true
   },
   "outputs": [],
   "source": [
    "def calcMarginsFromModel(_dealtToMe, _theyKept, _theyThrew, _flipCard, _whoseCrib, modelIn):\n",
    "    \n",
    "    scores=[]\n",
    "    for t in range(len(_dealtToMe)):\n",
    "        \n",
    "        dealtToMe=_dealtToMe[t]\n",
    "        theyKept=_theyKept[t]\n",
    "        theyThrew=_theyThrew[t]\n",
    "        flipCard=_flipCard[t]\n",
    "        whoseCrib=_whoseCrib[t]\n",
    "        \n",
    "        aiHands = [[] for _ in range(15)]\n",
    "        aiKeeps = [[] for _ in range(15)]\n",
    "        aiThrows = [[] for _ in range(15)]\n",
    "        \n",
    "        i=0\n",
    "        for subset in itertools.combinations(dealtToMe, 2):\n",
    "            y = dealtToMe[:]\n",
    "            y.remove(subset[0])\n",
    "            y.remove(subset[1])\n",
    "            aiKeeps[i]=list(y)\n",
    "            aiThrows[i]=list(subset)\n",
    "            aiHands[i]=list(y)+list(subset)\n",
    "            i+=1\n",
    "\n",
    "        numericalHands=[]\n",
    "        for q in range(len(aiHands)):\n",
    "            hand=aiHands[q]\n",
    "            numericalHands+=[[whoseCrib]+[int(i.split(' ', 1)[0]) for i in hand]+[int(i.split(' ', 1)[1]) for i in hand] ]\n",
    "        #print(numericalHands)\n",
    "        aiouts=modelIn.predict(numericalHands)\n",
    "        index, value = max(enumerate(aiouts), key=operator.itemgetter(1))\n",
    "\n",
    "        aiwin=numericalHands[index]\n",
    "\n",
    "        aiKept=aiKeeps[index]\n",
    "        aiThrew=aiThrows[index]\n",
    "\n",
    "\n",
    "        all1=aiKept+[flipCard]\n",
    "        all2=theyKept+[flipCard]\n",
    "        allc=aiThrew+theyThrew+[flipCard]\n",
    "\n",
    "        aiscore1=scoreHand(all1)\n",
    "        aiscore2=scoreHand(all2)\n",
    "        aiscorec=scoreHand(allc)\n",
    "\n",
    "        scores+=[aiscore1-aiscore2+whoseCrib*aiscorec]\n",
    "    return scores\n",
    "    \n",
    "    "
   ]
  },
  {
   "cell_type": "code",
   "execution_count": 6,
   "metadata": {
    "collapsed": true
   },
   "outputs": [],
   "source": [
    "def getScoresEZ(subplay):\n",
    "    scores=[]\n",
    "    for i in range(len(subplay['crib'])):\n",
    "        scores+=[scoreHand(subplay['iKept'][i]+[subplay['flip']])+subplay['whoseCrib']*scoreHand(subplay['crib'][i]+[subplay['flip']])]\n",
    "    return scores"
   ]
  },
  {
   "cell_type": "code",
   "execution_count": 7,
   "metadata": {
    "collapsed": true
   },
   "outputs": [],
   "source": [
    "def getScoresMod(subplayNew):\n",
    "    scores=[]\n",
    "    \n",
    "    suits = '1 2 3 4'.split()\n",
    "    ranks = '2 3 4 5 6 7 8 9 10 11 12 13 1'.split()\n",
    "    deck  = [r + ' ' + s for s in suits for r in ranks]\n",
    "\n",
    "    for j in range(6):\n",
    "        deck.remove(subplayNew['dealtToMe'][0][j])\n",
    "\n",
    "    for j in range(6):\n",
    "        deck.remove(subplayNew['dealtToThem'][0][j])\n",
    "    \n",
    "    for i in range(len(subplayNew['crib'])):\n",
    "        thisScore=0\n",
    "        \n",
    "        \n",
    "\n",
    "\n",
    "        \n",
    "        for j in range(len(deck)):\n",
    "            all1=subplayNew['iKept'][i]+[deck[j]]\n",
    "            allc=subplayNew['crib'][i]+[deck[j]]\n",
    "            thisScore+=scoreHand(all1)+subplayNew['whoseCrib']*scoreHand(allc)\n",
    "        \n",
    "        scores+=[thisScore/len(deck)]\n",
    "    return scores"
   ]
  },
  {
   "cell_type": "code",
   "execution_count": 8,
   "metadata": {
    "collapsed": true
   },
   "outputs": [],
   "source": [
    "def toCardText(cardList):\n",
    "    \n",
    "    numerizedList=[int(i.split(' ', 1)[0]) for i in cardList]+[int(i.split(' ', 1)[1]) for i in cardList] \n",
    "\n",
    "    reada=['K' if x==13 else x for x in numerizedList]\n",
    "    reada=['Q' if x==12 else x for x in reada]\n",
    "    reada=['J' if x==11 else x for x in reada]\n",
    "    reada=['T' if x==10 else x for x in reada]\n",
    "    reada=['A' if x==1 else x for x in reada]\n",
    "\n",
    "    readb=['h' if x==1 else x for x in numerizedList]\n",
    "    readb=['c' if x==2 else x for x in readb]\n",
    "    readb=['d' if x==3 else x for x in readb]\n",
    "    readb=['s' if x==4 else x for x in readb]\n",
    "    \n",
    "    returnString=\"\"\n",
    "    for i in range(len(cardList)):\n",
    "        returnString+=str(reada[i])+str(readb[i+len(cardList)])+\" \"\n",
    "    return returnString"
   ]
  },
  {
   "cell_type": "code",
   "execution_count": 9,
   "metadata": {
    "collapsed": true
   },
   "outputs": [],
   "source": [
    "def dealHand(x):\n",
    "    suits = '1 2 3 4'.split()\n",
    "    ranks = '2 3 4 5 6 7 8 9 10 11 12 13 1'.split()\n",
    "    deck  = [r + ' ' + s for s in suits for r in ranks]\n",
    "    n_players = 2\n",
    "    hand_size = 6\n",
    "\n",
    "    random.shuffle(deck)\n",
    "    #deals = deal(deck, n_players, hand_size)\n",
    "    deals=[[],[]]\n",
    "    deals[0] = deck[0:6]\n",
    "    return(deals[0])"
   ]
  },
  {
   "cell_type": "code",
   "execution_count": 10,
   "metadata": {
    "collapsed": true
   },
   "outputs": [],
   "source": [
    "def dealHands(x):\n",
    "    suits = '1 2 3 4'.split()\n",
    "    ranks = '2 3 4 5 6 7 8 9 10 11 12 13 1'.split()\n",
    "    deck  = [r + ' ' + s for s in suits for r in ranks]\n",
    "    n_players = 2\n",
    "    hand_size = 6\n",
    "\n",
    "    random.shuffle(deck)\n",
    "    #deals = deal(deck, n_players, hand_size)\n",
    "    deals=[[],[]]\n",
    "    deals[0] = deck[0:6]\n",
    "    deals[1] = deck[6:12]\n",
    "    flip=deck[13]\n",
    "    return(deals[0],deals[1],flip)"
   ]
  },
  {
   "cell_type": "code",
   "execution_count": 11,
   "metadata": {
    "collapsed": true
   },
   "outputs": [],
   "source": [
    "def getTrainingData(hand):\n",
    "    suits = '1 2 3 4'.split()\n",
    "    ranks = '2 3 4 5 6 7 8 9 10 11 12 13 1'.split()\n",
    "    deck  = [r + ' ' + s for s in suits for r in ranks]\n",
    "    n_players = 2\n",
    "    hand_size = 6\n",
    "\n",
    "    random.shuffle(deck)\n",
    "    #deals = deal(deck, n_players, hand_size)\n",
    "    deals=[[],[]]\n",
    "    deals[0] = deck[0:6]\n",
    "    deals[1] = deck[6:12]\n",
    "    \n",
    "    whoseCrib=random.choice([1,-1])\n",
    "    \n",
    "    \n",
    "    \n",
    "    \n",
    "    \n",
    "    \n",
    "    numericalHands=[]\n",
    "    for i in range(len(subplay['dealt'])):\n",
    "        hand=subplay['dealt'][i]\n",
    "        numericalHands+=[[whoseCrib]+[int(i.split(' ', 1)[0]) for i in hand]+[int(i.split(' ', 1)[1]) for i in hand] ]\n",
    "    return(numericalHands)\n"
   ]
  },
  {
   "cell_type": "code",
   "execution_count": 12,
   "metadata": {
    "collapsed": true
   },
   "outputs": [],
   "source": [
    "def randomThrow(hand):\n",
    "    theThrows= random_combination(hand, 2)\n",
    "    return theThrows"
   ]
  },
  {
   "cell_type": "code",
   "execution_count": 13,
   "metadata": {
    "collapsed": true
   },
   "outputs": [],
   "source": [
    "def makeNumeric(subplay):\n",
    "    numericalHands=[]\n",
    "    for i in range(len(subplay['dealtToMe'])):\n",
    "        hand=subplay['dealtToMe'][i]\n",
    "        numericalHands+=[[subplay['whoseCrib']]+[int(i.split(' ', 1)[0]) for i in hand]+[int(i.split(' ', 1)[1]) for i in hand] ]\n",
    "    return(numericalHands)"
   ]
  },
  {
   "cell_type": "code",
   "execution_count": 14,
   "metadata": {
    "collapsed": true
   },
   "outputs": [],
   "source": [
    "def modelThrows(hands):\n",
    "    a=model.predict(np.array(hands))\n",
    "    return(a)"
   ]
  },
  {
   "cell_type": "code",
   "execution_count": 15,
   "metadata": {
    "collapsed": true
   },
   "outputs": [],
   "source": [
    "def enumerateHand(hand):\n",
    "    p1hand = [[] for _ in range(15)]\n",
    "    p1keep = [[] for _ in range(15)]\n",
    "    p1throw = [[] for _ in range(15)]\n",
    "    i=0\n",
    "    for subset in itertools.combinations(hand, 2):\n",
    "        y = hand[:]\n",
    "        y.remove(subset[0])\n",
    "        y.remove(subset[1])\n",
    "        p1keep[i]=list(y)\n",
    "        p1throw[i]=list(subset)\n",
    "        p1hand[i]=list(y)+list(subset)\n",
    "        i+=1\n",
    "    return {'hand': p1hand, 'kept': p1keep, 'thrown':p1throw}"
   ]
  },
  {
   "cell_type": "code",
   "execution_count": 16,
   "metadata": {
    "collapsed": true
   },
   "outputs": [],
   "source": [
    "def getScores(subplay):\n",
    "    scores=[]\n",
    "    for i in range(len(subplay['crib'])):\n",
    "        scores+=[scoreHand(subplay['myhand'][i])+subplay['whoseCrib']*scoreHand(subplay['crib'][i])]\n",
    "    return scores"
   ]
  },
  {
   "cell_type": "code",
   "execution_count": 17,
   "metadata": {
    "collapsed": true
   },
   "outputs": [],
   "source": [
    "def findBestPlays(predictedScores):\n",
    "    indexx, value = max(enumerate(predictedScores[0:15]), key=operator.itemgetter(1))\n",
    "    return indexx"
   ]
  },
  {
   "cell_type": "code",
   "execution_count": 18,
   "metadata": {
    "collapsed": true
   },
   "outputs": [],
   "source": [
    "# slower option I used before: from pathos.multiprocessing import ProcessingPool as Pool\n",
    "### Training data generation is CPU-bound - on my 16-core server it took 8 hours to fully generate 600k hands\n",
    "from multiprocessing import Pool\n",
    "pool=Pool(processes=29)  #use (2 * num_cpus) - 3"
   ]
  },
  {
   "cell_type": "code",
   "execution_count": 19,
   "metadata": {
    "collapsed": true
   },
   "outputs": [],
   "source": [
    "### Load some training data (code to generate below)\n",
    "\n",
    "### Pregenerated training data: https://drive.google.com/open?id=1yZqy9p2yRDZRciAj5ll5I1QS2VvGggkN\n",
    "### (~400 MB)\n",
    "\n",
    "with open('trainingData.pkl', 'rb') as f:  # Python 3: open(..., 'rb')\n",
    "     train_x, train_y, test_x, test_y = pickle.load(f)"
   ]
  },
  {
   "cell_type": "code",
   "execution_count": 20,
   "metadata": {
    "collapsed": true
   },
   "outputs": [],
   "source": [
    "###Set up the neural network architecture\n",
    "\n",
    "hands_input = Input(shape=(13,), dtype='float32', name='hands_input')\n",
    "\n",
    "\n",
    "# We stack a deep densely-connected network on top\n",
    "x = Dense(240, activation='relu')(hands_input)\n",
    "x = Dense(240, activation='relu')(x)\n",
    "x = Dense(240, activation='relu')(x)\n",
    "x = Dense(240, activation='relu')(x)\n",
    "x = Dense(120, activation='relu')(x)\n",
    "x = Dense(120, activation='relu')(x)\n",
    "x = Dense(120, activation='relu')(x)\n",
    "x = Dense(120, activation='relu')(x)\n",
    "x = Dense(64, activation='relu')(x)\n",
    "x = Dense(64, activation='relu')(x)\n",
    "x = Dense(64, activation='relu')(x)\n",
    "x = Dense(64, activation='relu')(x)\n",
    "\n",
    "main_output = Dense(1, activation='linear', name='main_output')(x)\n",
    "\n",
    "modelt = Model(inputs=[hands_input], outputs=[main_output])\n",
    "modelt.compile(loss='mean_squared_error', optimizer='adam')"
   ]
  },
  {
   "cell_type": "code",
   "execution_count": 21,
   "metadata": {
    "collapsed": true
   },
   "outputs": [],
   "source": [
    "### Load benchmark data - 300 hands I played against the machine\n",
    "\n",
    "with open('benchmark2.pkl', 'rb') as f:  # Python 3: open(..., 'wb')\n",
    "    dealtToMeList, theyKeptList, theyThrewList, iKeptList, iThrewList, flipCardList, whoseCribList = pickle.load(f)"
   ]
  },
  {
   "cell_type": "code",
   "execution_count": 22,
   "metadata": {},
   "outputs": [
    {
     "name": "stdout",
     "output_type": "stream",
     "text": [
      "Train on 9000000 samples, validate on 90000 samples\n",
      "Epoch 1/4\n",
      "9000000/9000000 [==============================] - 124s 14us/step - loss: 8.3842 - val_loss: 6.6724\n",
      "Epoch 2/4\n",
      "9000000/9000000 [==============================] - 125s 14us/step - loss: 6.3870 - val_loss: 6.0595\n",
      "Epoch 3/4\n",
      "9000000/9000000 [==============================] - 126s 14us/step - loss: 5.9158 - val_loss: 5.6503\n",
      "Epoch 4/4\n",
      "9000000/9000000 [==============================] - 125s 14us/step - loss: 5.6528 - val_loss: 5.4168\n"
     ]
    },
    {
     "data": {
      "text/plain": [
       "90.775000000000006"
      ]
     },
     "execution_count": 22,
     "metadata": {},
     "output_type": "execute_result"
    }
   ],
   "source": [
    "### Train Train Train!\n",
    "\n",
    "### Each epoch is 120 seconds on my 16-core server\n",
    "### Probably a little/lot faster with a GPU\n",
    "\n",
    "### Every 4 epochs you can see how it performs on the benchmark data\n",
    "### For benchmark.pkl human is -100 or so? (didn't save human throws, DOH!)\n",
    "### For benchmark2.pkl human is -13. 2-sigma is +/- 70 or so\n",
    "\n",
    "modelt.fit(train_x, train_y, epochs=4, batch_size=2048,validation_data=[test_x,test_y])\n",
    "lis=calcMarginsFromModelMod(dealtToMeList, theyKeptList, theyThrewList, flipCardList, whoseCribList, modelt)\n",
    "sum(lis)"
   ]
  },
  {
   "cell_type": "code",
   "execution_count": 23,
   "metadata": {},
   "outputs": [
    {
     "name": "stdout",
     "output_type": "stream",
     "text": [
      "Train on 9000000 samples, validate on 90000 samples\n",
      "Epoch 1/4\n",
      "9000000/9000000 [==============================] - 117s 13us/step - loss: 5.4906 - val_loss: 5.2912\n",
      "Epoch 2/4\n",
      "9000000/9000000 [==============================] - 117s 13us/step - loss: 5.3829 - val_loss: 5.3045\n",
      "Epoch 3/4\n",
      "9000000/9000000 [==============================] - 117s 13us/step - loss: 5.3126 - val_loss: 5.2200\n",
      "Epoch 4/4\n",
      "9000000/9000000 [==============================] - 117s 13us/step - loss: 5.2670 - val_loss: 5.1995\n"
     ]
    },
    {
     "data": {
      "text/plain": [
       "98.425000000000026"
      ]
     },
     "execution_count": 23,
     "metadata": {},
     "output_type": "execute_result"
    }
   ],
   "source": [
    "modelt.fit(train_x, train_y, epochs=4, batch_size=2048,validation_data=[test_x,test_y])\n",
    "lis=calcMarginsFromModelMod(dealtToMeList, theyKeptList, theyThrewList, flipCardList, whoseCribList, modelt)\n",
    "sum(lis)"
   ]
  },
  {
   "cell_type": "code",
   "execution_count": 24,
   "metadata": {},
   "outputs": [
    {
     "name": "stdout",
     "output_type": "stream",
     "text": [
      "Train on 9000000 samples, validate on 90000 samples\n",
      "Epoch 1/4\n",
      "9000000/9000000 [==============================] - 117s 13us/step - loss: 5.2256 - val_loss: 5.1349\n",
      "Epoch 2/4\n",
      "9000000/9000000 [==============================] - 117s 13us/step - loss: 5.2003 - val_loss: 5.1156\n",
      "Epoch 3/4\n",
      "9000000/9000000 [==============================] - 117s 13us/step - loss: 5.1789 - val_loss: 5.1265\n",
      "Epoch 4/4\n",
      "9000000/9000000 [==============================] - 117s 13us/step - loss: 5.1613 - val_loss: 5.1274\n"
     ]
    },
    {
     "data": {
      "text/plain": [
       "100.42500000000001"
      ]
     },
     "execution_count": 24,
     "metadata": {},
     "output_type": "execute_result"
    }
   ],
   "source": [
    "modelt.fit(train_x, train_y, epochs=4, batch_size=2048,validation_data=[test_x,test_y])\n",
    "lis=calcMarginsFromModelMod(dealtToMeList, theyKeptList, theyThrewList, flipCardList, whoseCribList, modelt)\n",
    "sum(lis)"
   ]
  },
  {
   "cell_type": "code",
   "execution_count": 25,
   "metadata": {},
   "outputs": [
    {
     "name": "stdout",
     "output_type": "stream",
     "text": [
      "Train on 9000000 samples, validate on 90000 samples\n",
      "Epoch 1/4\n",
      "9000000/9000000 [==============================] - 117s 13us/step - loss: 5.1498 - val_loss: 5.0939\n",
      "Epoch 2/4\n",
      "9000000/9000000 [==============================] - 117s 13us/step - loss: 5.1341 - val_loss: 5.0426\n",
      "Epoch 3/4\n",
      "9000000/9000000 [==============================] - 117s 13us/step - loss: 5.1253 - val_loss: 5.0817\n",
      "Epoch 4/4\n",
      "9000000/9000000 [==============================] - 117s 13us/step - loss: 5.1201 - val_loss: 5.1107\n"
     ]
    },
    {
     "data": {
      "text/plain": [
       "78.200000000000045"
      ]
     },
     "execution_count": 25,
     "metadata": {},
     "output_type": "execute_result"
    }
   ],
   "source": [
    "modelt.fit(train_x, train_y, epochs=4, batch_size=2048,validation_data=[test_x,test_y])\n",
    "lis=calcMarginsFromModelMod(dealtToMeList, theyKeptList, theyThrewList, flipCardList, whoseCribList, modelt)\n",
    "sum(lis)"
   ]
  },
  {
   "cell_type": "code",
   "execution_count": 26,
   "metadata": {},
   "outputs": [
    {
     "name": "stdout",
     "output_type": "stream",
     "text": [
      "Train on 9000000 samples, validate on 90000 samples\n",
      "Epoch 1/4\n",
      "9000000/9000000 [==============================] - 117s 13us/step - loss: 5.1100 - val_loss: 5.2563\n",
      "Epoch 2/4\n",
      "9000000/9000000 [==============================] - 117s 13us/step - loss: 5.1019 - val_loss: 5.0689\n",
      "Epoch 3/4\n",
      "9000000/9000000 [==============================] - 117s 13us/step - loss: 5.0967 - val_loss: 5.0917\n",
      "Epoch 4/4\n",
      "9000000/9000000 [==============================] - 117s 13us/step - loss: 5.0953 - val_loss: 5.0229\n"
     ]
    },
    {
     "data": {
      "text/plain": [
       "77.0"
      ]
     },
     "execution_count": 26,
     "metadata": {},
     "output_type": "execute_result"
    }
   ],
   "source": [
    "modelt.fit(train_x, train_y, epochs=4, batch_size=2048,validation_data=[test_x,test_y])\n",
    "lis=calcMarginsFromModelMod(dealtToMeList, theyKeptList, theyThrewList, flipCardList, whoseCribList, modelt)\n",
    "sum(lis)"
   ]
  },
  {
   "cell_type": "code",
   "execution_count": 28,
   "metadata": {},
   "outputs": [
    {
     "name": "stdout",
     "output_type": "stream",
     "text": [
      "Train on 9000000 samples, validate on 90000 samples\n",
      "Epoch 1/4\n",
      "9000000/9000000 [==============================] - 117s 13us/step - loss: 5.0878 - val_loss: 5.0407\n",
      "Epoch 2/4\n",
      "9000000/9000000 [==============================] - 117s 13us/step - loss: 5.0847 - val_loss: 5.0277\n",
      "Epoch 3/4\n",
      "9000000/9000000 [==============================] - 118s 13us/step - loss: 5.0790 - val_loss: 5.0211\n",
      "Epoch 4/4\n",
      "9000000/9000000 [==============================] - 117s 13us/step - loss: 5.0853 - val_loss: 5.0275\n"
     ]
    },
    {
     "data": {
      "text/plain": [
       "84.250000000000057"
      ]
     },
     "execution_count": 28,
     "metadata": {},
     "output_type": "execute_result"
    }
   ],
   "source": [
    "modelt.fit(train_x, train_y, epochs=4, batch_size=2048,validation_data=[test_x,test_y])\n",
    "lis=calcMarginsFromModelMod(dealtToMeList, theyKeptList, theyThrewList, flipCardList, whoseCribList, modelt)\n",
    "sum(lis)"
   ]
  },
  {
   "cell_type": "code",
   "execution_count": 29,
   "metadata": {
    "collapsed": true
   },
   "outputs": [],
   "source": [
    "### Saves the neural network weights for use elsewhere\n",
    "\n",
    "from keras.models import load_model\n",
    "\n",
    "modelt.save('bestThrowingWeights.h5')"
   ]
  },
  {
   "cell_type": "code",
   "execution_count": null,
   "metadata": {
    "scrolled": true
   },
   "outputs": [],
   "source": [
    "###Sets up a smalll set to get the model started\n",
    "###Plays against random opponent throws - not worth investing too much time\n",
    "\n",
    "p =pool.map(dealHands, range(20000))\n",
    "myHands=[]\n",
    "theirHands=[]\n",
    "flips=[]\n",
    "for a in range(len(p)):\n",
    "    myHands+=[p[a][0]]\n",
    "    theirHands+=[p[a][1]]\n",
    "    flips+=[p[a][2]]\n",
    "\n",
    "allPossibilities=pool.map(enumerateHand, myHands)\n",
    "inTheCrib=pool.map(randomThrow, theirHands)\n",
    "\n",
    "\n",
    "subplays=[]\n",
    "trainingHands=[]\n",
    "for i in range(len(allPossibilities)):\n",
    "    subplays+=[\n",
    "        {\n",
    "            'dealtToMe': allPossibilities[i]['hand'],\n",
    "            'iKept': allPossibilities[i]['kept'],\n",
    "            'crib': [a + b for a, b in zip(allPossibilities[i]['thrown'], 15*[list(inTheCrib[i])])],\n",
    "            'whoseCrib': random.choice([1,-1]),\n",
    "            'flip': flips[i]\n",
    "        }\n",
    "    ]\n",
    "    \n",
    "trainingLabels=pool.map(getScoresEZ,subplays)\n",
    "trainingData=pool.map(makeNumeric,subplays)\n",
    "\n",
    "train_y=[j for i in trainingLabels for j in i]\n",
    "print(\"y: \",len(train_y))\n",
    "train_x=[j for i in trainingData for j in i]\n",
    "print(\"x: \",len(train_x))"
   ]
  },
  {
   "cell_type": "code",
   "execution_count": null,
   "metadata": {},
   "outputs": [],
   "source": [
    "hands_input = Input(shape=(13,), dtype='float32', name='hands_input')\n",
    "\n",
    "#allins = keras.layers.concatenate([hands_input])\n",
    "\n",
    "# We stack a deep densely-connected network on top\n",
    "x = Dense(120, activation='relu')(hands_input)\n",
    "x = Dense(120, activation='relu')(x)\n",
    "x = Dense(120, activation='relu')(x)\n",
    "x = Dense(120, activation='relu')(x)\n",
    "x = Dense(120, activation='relu')(x)\n",
    "x = Dense(120, activation='relu')(x)\n",
    "x = Dense(64, activation='relu')(x)\n",
    "x = Dense(64, activation='relu')(x)\n",
    "x = Dense(64, activation='relu')(x)\n",
    "x = Dense(64, activation='relu')(x)\n",
    "x = Dense(64, activation='relu')(x)\n",
    "\n",
    "main_output = Dense(1, activation='linear', name='main_output')(x)\n",
    "\n",
    "modelt = Model(inputs=[hands_input], outputs=[main_output])\n",
    "modelt.compile(loss='mean_squared_error', optimizer='adam')\n",
    "modelt.fit(train_x, train_y, epochs=16, batch_size=1500)"
   ]
  },
  {
   "cell_type": "code",
   "execution_count": null,
   "metadata": {
    "collapsed": true
   },
   "outputs": [],
   "source": []
  },
  {
   "cell_type": "code",
   "execution_count": null,
   "metadata": {},
   "outputs": [],
   "source": [
    "### Now generate the real training data. 600k = 23000 sec. Mostly on \"getScoresMod\"\n",
    "### It averages across all 40 possible flip cards, which takes a while but removes a lot of variance\n",
    "\n",
    "### Pregenerated training data: https://drive.google.com/open?id=1yZqy9p2yRDZRciAj5ll5I1QS2VvGggkN\n",
    "### with open('trainingData.pkl', 'rb') as f:  # Python 3: open(..., 'rb')\n",
    "###      train_x, train_y, test_x, test_y = pickle.load(f)\n",
    "\n",
    "\n",
    "\n",
    "numExamples=600000\n",
    "startTime=time.time()\n",
    "p=pool.map(dealHands, range(numExamples))\n",
    "myHands=[]\n",
    "theirHands=[]\n",
    "flips=[]\n",
    "for a in range(len(p)):\n",
    "    myHands+=[p[a][0]]\n",
    "    theirHands+=[p[a][1]]\n",
    "    flips+=[p[a][2]]\n",
    "\n",
    "allPossibilities=pool.map(enumerateHand, myHands)\n",
    "theirPossibilities=pool.map(enumerateHand, theirHands)\n",
    "print(\"hands enumerated\",time.time()-startTime)\n",
    "\n",
    "opponentPlays=[]\n",
    "for i in range(len(theirPossibilities)):\n",
    "    opponentPlays+=[\n",
    "        {\n",
    "            'dealtToMe': theirPossibilities[i]['hand'],\n",
    "            'whoseCrib': random.choice([-1,1])\n",
    "        }\n",
    "    ]\n",
    "print(\"dict built\",time.time()-startTime)\n",
    "\n",
    "predictThis=pool.map(makeNumeric,opponentPlays)\n",
    "print(\"made numeric hands\",time.time()-startTime)\n",
    "predict_x=[j for i in predictThis for j in i]\n",
    "print(\"predict ready\",time.time()-startTime)"
   ]
  },
  {
   "cell_type": "code",
   "execution_count": null,
   "metadata": {},
   "outputs": [],
   "source": [
    "outputStuff=modelt.predict(predict_x)\n",
    "print(\"predict done\",time.time()-startTime)"
   ]
  },
  {
   "cell_type": "code",
   "execution_count": null,
   "metadata": {},
   "outputs": [],
   "source": [
    "jj=[]\n",
    "qq=np.split(outputStuff,numExamples)\n",
    "print(\"split predictions\",time.time()-startTime)\n",
    "jj=pool.map(findBestPlays, qq)\n",
    "#apply this to Pool\n",
    "print(\"pulled best plays\",time.time()-startTime)\n",
    "bestThrows=[]\n",
    "for i in range(len(theirPossibilities)):\n",
    "    bestThrows+=[theirPossibilities[jj[i]]['thrown']]\n",
    "\n",
    "inTheCrib=[j for i in bestThrows for j in i]\n",
    "print(\"crib set\",time.time()-startTime)"
   ]
  },
  {
   "cell_type": "code",
   "execution_count": null,
   "metadata": {},
   "outputs": [],
   "source": [
    "subplays=[]\n",
    "trainingHands=[]\n",
    "for i in range(len(allPossibilities)):\n",
    "    subplays+=[\n",
    "        {\n",
    "            'dealtToMe': allPossibilities[i]['hand'],\n",
    "            'dealtToThem': theirPossibilities[i]['hand'],\n",
    "            'iKept': allPossibilities[i]['kept'],\n",
    "            'crib': [a + b for a, b in zip(allPossibilities[i]['thrown'], 15*[list(inTheCrib[i])])],\n",
    "            'whoseCrib': -1*opponentPlays[i]['whoseCrib'],\n",
    "            'flip': flips[i]\n",
    "        }\n",
    "    ]\n",
    "    \n",
    "print(\"subplays ready\",time.time()-startTime)\n",
    "trainingLabels=pool.map(getScoresMod,subplays)\n",
    "trainingData=pool.map(makeNumeric,subplays)\n",
    "print(\"subplays done\",time.time()-startTime)\n",
    "train_y=[j for i in trainingLabels for j in i]\n",
    "print(\"y: \",len(train_y))\n",
    "train_x=[j for i in trainingData for j in i]\n",
    "print(\"x: \",len(train_x))\n",
    "print(\"ready to train\",time.time()-startTime)"
   ]
  },
  {
   "cell_type": "code",
   "execution_count": null,
   "metadata": {},
   "outputs": [],
   "source": [
    "### Smaller test set\n",
    "\n",
    "p=pool.map(dealHands, range(6000))\n",
    "myHands=[]\n",
    "theirHands=[]\n",
    "flips=[]\n",
    "for a in range(len(p)):\n",
    "    myHands+=[p[a][0]]\n",
    "    theirHands+=[p[a][1]]\n",
    "    flips+=[p[a][2]]\n",
    "allPossibilities=pool.map(enumerateHand, myHands)\n",
    "theirPossibilities=pool.map(enumerateHand, theirHands)\n",
    "\n",
    "opponentPlays=[]\n",
    "for i in range(len(theirPossibilities)):\n",
    "    opponentPlays+=[\n",
    "        {\n",
    "            'dealtToMe': theirPossibilities[i]['hand'],\n",
    "            'whoseCrib': random.choice([-1,1])\n",
    "        }\n",
    "    ]\n",
    "\n",
    "predictThis=pool.map(makeNumeric,opponentPlays)\n",
    "predict_x=[j for i in predictThis for j in i]\n",
    "\n",
    "outputStuff=modelt.predict(predict_x)\n",
    "\n",
    "jj=[]\n",
    "qq=np.split(outputStuff,6000)\n",
    "jj=pool.map(findBestPlays, qq)\n",
    "#apply this to Pool\n",
    "bestThrows=[]\n",
    "for i in range(len(theirPossibilities)):\n",
    "    bestThrows+=[theirPossibilities[jj[i]]['thrown']]\n",
    "\n",
    "inTheCrib=[j for i in bestThrows for j in i]\n",
    "subplays=[]\n",
    "trainingHands=[]\n",
    "for i in range(len(allPossibilities)):\n",
    "    subplays+=[\n",
    "        {\n",
    "            'dealtToMe': allPossibilities[i]['hand'],\n",
    "            'dealtToThem': theirPossibilities[i]['hand'],\n",
    "            'iKept': allPossibilities[i]['kept'],\n",
    "            'crib': [a + b for a, b in zip(allPossibilities[i]['thrown'], 15*[list(inTheCrib[i])])],\n",
    "            'whoseCrib': -1*opponentPlays[i]['whoseCrib'],\n",
    "            'flip': flips[i]\n",
    "        }\n",
    "    ]\n",
    "trainingLabels=pool.map(getScoresMod,subplays)\n",
    "trainingData=pool.map(makeNumeric,subplays)\n",
    "\n",
    "test_y=[j for i in trainingLabels for j in i]\n",
    "print(\"y: \",len(test_y))\n",
    "test_x=[j for i in trainingData for j in i]\n",
    "print(\"x: \",len(test_x))"
   ]
  },
  {
   "cell_type": "code",
   "execution_count": null,
   "metadata": {},
   "outputs": [],
   "source": [
    "### Shows a few example hands w/ AI choices\n",
    "\n",
    "for _ in range(10):\n",
    "    myHand=dealHand(0)\n",
    "    \n",
    "    p1hand = [[] for _ in range(15)]\n",
    "    p1keep = [[] for _ in range(15)]\n",
    "    p1throw = [[] for _ in range(15)]\n",
    "    i=0\n",
    "    for subset in itertools.combinations(myHand, 2):\n",
    "        y = myHand[:]\n",
    "        y.remove(subset[0])\n",
    "        y.remove(subset[1])\n",
    "        p1keep[i]=list(y)\n",
    "        p1throw[i]=list(subset)\n",
    "        p1hand[i]=list(y)+list(subset)\n",
    "        i+=1\n",
    "    \n",
    "    numericalHands=[]\n",
    "    for i in range(len(p1hand)):\n",
    "        hand=p1hand[i]\n",
    "        numericalHands+=[[-1]+[int(i.split(' ', 1)[0]) for i in hand]+[int(i.split(' ', 1)[1]) for i in hand] ]\n",
    "    #print(numericalHands)\n",
    "    outs=modelt.predict(numericalHands)\n",
    "    index, value = max(enumerate(outs), key=operator.itemgetter(1))\n",
    "    win=numericalHands[index]\n",
    "    \n",
    "    read=['K' if x==13 else x for x in win]\n",
    "    read=['Q' if x==12 else x for x in read]\n",
    "    read=['J' if x==11 else x for x in read]\n",
    "    read=['T' if x==10 else x for x in read]\n",
    "    read=['A' if x==1 else x for x in read]\n",
    "    \n",
    "    read2=['h' if x==1 else x for x in win]\n",
    "    read2=['c' if x==2 else x for x in read2]\n",
    "    read2=['d' if x==3 else x for x in read2]\n",
    "    read2=['s' if x==4 else x for x in read2]\n",
    "    #isMine='(My Crib)'\n",
    "    #if sing['x_data'][index][0]==-1:\n",
    "    isMine='(Their Crib)'\n",
    "    print(isMine +\"  \"+str(read[1]) +str(read2[7])+\" \"+ str(read[2])+str(read2[8])+\" \"+ str(read[3])+str(read2[9])+\" \"+ str(read[4]) +str(read2[10])+\" \"+\"| \" + str(read[5])+str(read2[11])+\" \"+ str(read[6])+str(read2[12]))"
   ]
  },
  {
   "cell_type": "code",
   "execution_count": null,
   "metadata": {},
   "outputs": [],
   "source": [
    "crib=1\n",
    "humanScores=[]\n",
    "aiScores=[]\n",
    "dealtToMeList=[]\n",
    "dealtToThemList=[]\n",
    "iKeptList=[]\n",
    "iThrewList=[]\n",
    "theyKeptList=[]\n",
    "theyThrewList=[]\n",
    "flipCardList=[]\n",
    "whoseCribList=[]\n",
    "numOfGames=0\n",
    "suits = '1 2 3 4'.split()\n",
    "ranks = '2 3 4 5 6 7 8 9 10 11 12 13 1'.split()\n",
    "deck  = [r + ' ' + s for s in suits for r in ranks]\n",
    "n_players = 2\n",
    "hand_size = 6\n",
    "\n",
    "random.shuffle(deck)\n",
    "#deals = deal(deck, n_players, hand_size)\n",
    "dealtToMe = deck[0:6]\n",
    "crib=crib*-1\n",
    "\n",
    "print(crib)\n",
    "print(toCardText(dealtToMe))\n",
    "print(\" 1  2  3  4  5  6\")"
   ]
  },
  {
   "cell_type": "code",
   "execution_count": null,
   "metadata": {},
   "outputs": [],
   "source": [
    "\n",
    "leftOvers=[1,2,3,4,5,6]\n",
    "leftOvers.remove(throw[0])\n",
    "leftOvers.remove(throw[1])\n",
    "leftOvers\n",
    "\n",
    "iThrew=[dealtToMe[throw[0]-1],dealtToMe[throw[1]-1]]\n",
    "iKept=[dealtToMe[leftOvers[0]-1],dealtToMe[leftOvers[1]-1],dealtToMe[leftOvers[2]-1],dealtToMe[leftOvers[3]-1]]\n",
    "\n",
    "iKeptList+=[iThrew]\n",
    "iThrewList+=[iKept]\n",
    "\n",
    "dealtToThem = deck[6:12]\n",
    "\n",
    "theirHands = [[] for _ in range(15)]\n",
    "theirKeeps = [[] for _ in range(15)]\n",
    "theirThrows = [[] for _ in range(15)]\n",
    "i=0\n",
    "for subset in itertools.combinations(dealtToThem, 2):\n",
    "    y = dealtToThem[:]\n",
    "    y.remove(subset[0])\n",
    "    y.remove(subset[1])\n",
    "    theirKeeps[i]=list(y)\n",
    "    theirThrows[i]=list(subset)\n",
    "    theirHands[i]=list(y)+list(subset)\n",
    "    i+=1\n",
    "\n",
    "numericalHands=[]\n",
    "for q in range(len(theirHands)):\n",
    "    hand=theirHands[q]\n",
    "    numericalHands+=[[-1*crib]+[int(i.split(' ', 1)[0]) for i in hand]+[int(i.split(' ', 1)[1]) for i in hand] ]\n",
    "#print(numericalHands)\n",
    "outs=modelt.predict(numericalHands)\n",
    "index, value = max(enumerate(outs), key=operator.itemgetter(1))\n",
    "\n",
    "win=numericalHands[index]\n",
    "\n",
    "theyKept=theirKeeps[index]\n",
    "theyThrew=theirThrows[index]\n",
    "\n",
    "flipCard=deck[13]\n",
    "\n",
    "all1=iKept+[flipCard]\n",
    "all2=theyKept+[flipCard]\n",
    "allc=iThrew+theyThrew+[flipCard]\n",
    "\n",
    "score1=scoreHand(all1)\n",
    "score2=scoreHand(all2)\n",
    "scorec=scoreHand(allc)\n",
    "\n",
    "read1=['K' if x==13 else x for x in win]\n",
    "read1=['Q' if x==12 else x for x in read]\n",
    "read1=['J' if x==11 else x for x in read]\n",
    "read1=['T' if x==10 else x for x in read]\n",
    "read1=['A' if x==1 else x for x in read]\n",
    "\n",
    "read2=['h' if x==1 else x for x in win]\n",
    "read2=['c' if x==2 else x for x in read2]\n",
    "read2=['d' if x==3 else x for x in read2]\n",
    "read2=['s' if x==4 else x for x in read2]\n",
    "#isMine='(My Crib)'\n",
    "#if sing['x_data'][index][0]==-1:\n",
    "isMine='(Their Crib)'\n",
    "\n",
    "cribMid=(crib==1)*toCardText(theyThrew)+(crib==-1)*toCardText(iThrew)\n",
    "\n",
    "print(\"me:   \",toCardText(iKept),\" =\",score1)\n",
    "print(\"                  \",(crib==1)*toCardText(iThrew))\n",
    "print(\"     \",toCardText([flipCard]),\"        \",cribMid,\" =\",scorec)\n",
    "print(\"                  \",(crib==-1)*toCardText(theyThrew))\n",
    "print(\"them:   \",toCardText(theyKept),\" =\",score2)\n",
    "\n",
    "numOfGames+=1\n",
    "huSc=calcMarginsFromSinglePlay(iKept,iThrew,theyKept,theyThrew,crib,modelt)\n",
    "humanScores+=[huSc]\n",
    "\n",
    "aiHands = [[] for _ in range(15)]\n",
    "aiKeeps = [[] for _ in range(15)]\n",
    "aiThrows = [[] for _ in range(15)]\n",
    "i=0\n",
    "\n",
    "for subset in itertools.combinations(dealtToMe, 2):\n",
    "    y = dealtToMe[:]\n",
    "    y.remove(subset[0])\n",
    "    y.remove(subset[1])\n",
    "    aiKeeps[i]=list(y)\n",
    "    aiThrows[i]=list(subset)\n",
    "    aiHands[i]=list(y)+list(subset)\n",
    "    i+=1\n",
    "\n",
    "numericalHands=[]\n",
    "for q in range(len(aiHands)):\n",
    "    hand=aiHands[q]\n",
    "    numericalHands+=[[crib]+[int(i.split(' ', 1)[0]) for i in hand]+[int(i.split(' ', 1)[1]) for i in hand] ]\n",
    "#print(numericalHands)\n",
    "aiouts=modelt.predict(numericalHands)\n",
    "index, value = max(enumerate(aiouts), key=operator.itemgetter(1))\n",
    "\n",
    "aiwin=numericalHands[index]\n",
    "\n",
    "aiKept=aiKeeps[index]\n",
    "aiThrew=aiThrows[index]\n",
    "\n",
    "aiall1=aiKept+[flipCard]\n",
    "aiall2=theyKept+[flipCard]\n",
    "aiallc=aiThrew+theyThrew+[flipCard]\n",
    "\n",
    "aiscore1=scoreHand(aiall1)\n",
    "aiscore2=scoreHand(aiall2)\n",
    "aiscorec=scoreHand(aiallc)\n",
    "\n",
    "\n",
    "aiSc=calcMarginsFromSinglePlay(aiKept,aiThrew,theyKept,theyThrew,crib,modelt)\n",
    "aiScores+=[aiSc]\n",
    "dealtToMeList+=[dealtToMe]\n",
    "dealtToThemList+=[dealtToThem]\n",
    "theyKeptList+=[theyKept]\n",
    "theyThrewList+=[theyThrew]\n",
    "flipCardList+=[flipCard]\n",
    "whoseCribList+=[crib]\n",
    "\n",
    "print()\n",
    "print(\"     human: \", sum(humanScores),\"points \",\"+/- \",2*sqrt(np.var(humanScores))*sqrt(len(humanScores)))\n",
    "print(\"           \",numOfGames, \" hands\")\n",
    "\n",
    "print()\n",
    "\n",
    "\n",
    "print()\n",
    "print(\"     ai:    \", sum(aiScores),\"points \")\n",
    "print()\n",
    "print(\"             diff=\",sum(humanScores)-sum(aiScores),\" +/- \",2*sqrt(np.var(np.array(humanScores)-np.array(aiScores)))*sqrt(len(humanScores)))\n",
    "\n",
    "print()\n",
    "\n",
    "print(\" \")\n",
    "print(\" \")\n",
    "suits = '1 2 3 4'.split()\n",
    "ranks = '2 3 4 5 6 7 8 9 10 11 12 13 1'.split()\n",
    "deck  = [r + ' ' + s for s in suits for r in ranks]\n",
    "n_players = 2\n",
    "hand_size = 6\n",
    "\n",
    "random.shuffle(deck)\n",
    "#deals = deal(deck, n_players, hand_size)\n",
    "dealtToMe = deck[0:6]\n",
    "crib=crib*-1\n",
    "\n",
    "print(crib)\n",
    "print(toCardText(dealtToMe))\n",
    "print(\" 1  2  3  4  5  6\")"
   ]
  },
  {
   "cell_type": "code",
   "execution_count": null,
   "metadata": {
    "collapsed": true
   },
   "outputs": [],
   "source": [
    "# next time save the cards so we can plot performance vs training time\n",
    "throw=[2,5]"
   ]
  },
  {
   "cell_type": "code",
   "execution_count": null,
   "metadata": {},
   "outputs": [],
   "source": [
    "lis=calcMarginsFromModelMod(dealtToMeList, theyKeptList, theyThrewList, flipCardList, whoseCribList, modelt)\n",
    "sum(lis)"
   ]
  },
  {
   "cell_type": "code",
   "execution_count": null,
   "metadata": {
    "scrolled": true
   },
   "outputs": [],
   "source": [
    "\n",
    "print(dealtToMeList)\n",
    "print(theyKeptList)\n",
    "print(theyThrewList)\n",
    "print(flipCardList)\n",
    "print(whoseCribList)\n",
    "print(iThrewList)\n",
    "print(iKeptList)"
   ]
  },
  {
   "cell_type": "code",
   "execution_count": null,
   "metadata": {},
   "outputs": [],
   "source": [
    "print(sum(humanScores[::2])/len(humanScores[::2]))\n",
    "print(sum(humanScores[1::2])/len(humanScores[1::2]))"
   ]
  },
  {
   "cell_type": "code",
   "execution_count": null,
   "metadata": {
    "collapsed": true
   },
   "outputs": [],
   "source": [
    "runningTotal=[]\n",
    "runningVar=[]\n",
    "runningMarHi=[]\n",
    "runningMarLo=[]\n",
    "zippo=[]\n",
    "for i in range(1,len(humanScores)):\n",
    "    runningTotal+=[sum(humanScores[:i])-sum(aiScores[:i])]\n",
    "    runningVar+=[2*sqrt(np.var(np.array(humanScores[:i])-np.array(aiScores[:i])))*sqrt(len(humanScores[:i]))]\n",
    "    runningMarHi+=[sum(humanScores[:i])-sum(aiScores[:i])+2*sqrt(np.var(np.array(humanScores[:i])-np.array(aiScores[:i])))*sqrt(len(humanScores[:i]))]\n",
    "    runningMarLo+=[sum(humanScores[:i])-sum(aiScores[:i])-2*sqrt(np.var(np.array(humanScores[:i])-np.array(aiScores[:i])))*sqrt(len(humanScores[:i]))]                                                                                   \n",
    "    zippo+=[0]"
   ]
  },
  {
   "cell_type": "code",
   "execution_count": null,
   "metadata": {},
   "outputs": [],
   "source": [
    "plt.figure(figsize=(10,6))\n",
    "plt.plot(range(len(zippo)),zippo)\n",
    "a=plt.plot(range(len(runningMarHi)),runningMarHi,'r')\n",
    "b=plt.plot(range(len(runningTotal)),runningTotal,'b')\n",
    "c=plt.plot(range(len(runningMarLo)),runningMarLo,'r')\n",
    "\n",
    "plt.fill_between(range(len(runningMarLo)), runningMarLo, runningMarHi, color='red', alpha='0.5')\n",
    "\n",
    "red_patch = mpatches.Patch(color='blue', label='Human minus AI scores')\n",
    "blue_patch = mpatches.Patch(color='red', label='95% confidence')\n",
    "\n",
    "plt.legend(handles=[red_patch, blue_patch],loc=3)\n",
    "plt.title('Beta Cribbage performance')\n",
    "plt.xlabel('cribbage hands')\n",
    "\n",
    "\n",
    "\n",
    "plt.show()\n"
   ]
  },
  {
   "cell_type": "code",
   "execution_count": null,
   "metadata": {},
   "outputs": [],
   "source": [
    "2*sqrt(np.var(np.array(humanScores[:i])-np.array(aiScores[:i])))"
   ]
  },
  {
   "cell_type": "code",
   "execution_count": null,
   "metadata": {},
   "outputs": [],
   "source": [
    "print(aiThrows)"
   ]
  },
  {
   "cell_type": "code",
   "execution_count": null,
   "metadata": {},
   "outputs": [],
   "source": [
    "asd[5:]"
   ]
  },
  {
   "cell_type": "code",
   "execution_count": null,
   "metadata": {},
   "outputs": [],
   "source": [
    "print(humanScores)\n",
    "print(aiScores)"
   ]
  },
  {
   "cell_type": "code",
   "execution_count": null,
   "metadata": {
    "collapsed": true
   },
   "outputs": [],
   "source": []
  },
  {
   "cell_type": "code",
   "execution_count": null,
   "metadata": {
    "collapsed": true
   },
   "outputs": [],
   "source": [
    "### How to train the model\n"
   ]
  },
  {
   "cell_type": "code",
   "execution_count": null,
   "metadata": {},
   "outputs": [],
   "source": [
    "modelt.fit(train_x, train_y, epochs=4, batch_size=2048,validation_data=[test_x,test_y])"
   ]
  },
  {
   "cell_type": "code",
   "execution_count": null,
   "metadata": {
    "collapsed": true
   },
   "outputs": [],
   "source": [
    "lis=calcMarginsFromModelMod(dealtToMeList, theyKeptList, theyThrewList, flipCardList, whoseCribList, modelt)"
   ]
  },
  {
   "cell_type": "code",
   "execution_count": null,
   "metadata": {},
   "outputs": [],
   "source": [
    "sum(lis)"
   ]
  },
  {
   "cell_type": "code",
   "execution_count": null,
   "metadata": {},
   "outputs": [],
   "source": [
    "modelt.fit(train_x, train_y, epochs=4, batch_size=2048,validation_data=[test_x,test_y])\n",
    "lis=calcMarginsFromModelMod(dealtToMeList, theyKeptList, theyThrewList, flipCardList, whoseCribList, modelt)\n",
    "sum(lis)"
   ]
  },
  {
   "cell_type": "code",
   "execution_count": null,
   "metadata": {},
   "outputs": [],
   "source": [
    "modelt.fit(train_x, train_y, epochs=4, batch_size=2048,validation_data=[test_x,test_y])\n",
    "lis=calcMarginsFromModelMod(dealtToMeList, theyKeptList, theyThrewList, flipCardList, whoseCribList, modelt)\n",
    "sum(lis)"
   ]
  },
  {
   "cell_type": "code",
   "execution_count": null,
   "metadata": {},
   "outputs": [],
   "source": [
    "modelt.fit(train_x, train_y, epochs=4, batch_size=2048,validation_data=[test_x,test_y])\n",
    "lis=calcMarginsFromModelMod(dealtToMeList, theyKeptList, theyThrewList, flipCardList, whoseCribList, modelt)\n",
    "sum(lis)"
   ]
  },
  {
   "cell_type": "code",
   "execution_count": null,
   "metadata": {},
   "outputs": [],
   "source": [
    "modelt.fit(train_x, train_y, epochs=4, batch_size=2048,validation_data=[test_x,test_y])\n",
    "lis=calcMarginsFromModelMod(dealtToMeList, theyKeptList, theyThrewList, flipCardList, whoseCribList, modelt)\n",
    "sum(lis)"
   ]
  },
  {
   "cell_type": "code",
   "execution_count": null,
   "metadata": {},
   "outputs": [],
   "source": [
    "modelt.fit(train_x, train_y, epochs=4, batch_size=2048,validation_data=[test_x,test_y])\n",
    "lis=calcMarginsFromModelMod(dealtToMeList, theyKeptList, theyThrewList, flipCardList, whoseCribList, modelt)\n",
    "sum(lis)"
   ]
  },
  {
   "cell_type": "code",
   "execution_count": null,
   "metadata": {
    "collapsed": true
   },
   "outputs": [],
   "source": [
    "modelt.fit(train_x, train_y, epochs=4, batch_size=2048,validation_data=[test_x,test_y])\n",
    "lis=calcMarginsFromModelMod(dealtToMeList, theyKeptList, theyThrewList, flipCardList, whoseCribList, modelt)\n",
    "sum(lis)"
   ]
  },
  {
   "cell_type": "code",
   "execution_count": null,
   "metadata": {
    "collapsed": true
   },
   "outputs": [],
   "source": [
    "modelt.fit(train_x, train_y, epochs=4, batch_size=2048,validation_data=[test_x,test_y])\n",
    "lis=calcMarginsFromModelMod(dealtToMeList, theyKeptList, theyThrewList, flipCardList, whoseCribList, modelt)\n",
    "sum(lis)"
   ]
  },
  {
   "cell_type": "code",
   "execution_count": null,
   "metadata": {
    "collapsed": true
   },
   "outputs": [],
   "source": [
    "modelt.fit(train_x, train_y, epochs=4, batch_size=2048,validation_data=[test_x,test_y])\n",
    "lis=calcMarginsFromModelMod(dealtToMeList, theyKeptList, theyThrewList, flipCardList, whoseCribList, modelt)\n",
    "sum(lis)"
   ]
  },
  {
   "cell_type": "code",
   "execution_count": null,
   "metadata": {
    "collapsed": true
   },
   "outputs": [],
   "source": [
    "modelt.fit(train_x, train_y, epochs=4, batch_size=2048,validation_data=[test_x,test_y])\n",
    "lis=calcMarginsFromModelMod(dealtToMeList, theyKeptList, theyThrewList, flipCardList, whoseCribList, modelt)\n",
    "sum(lis)"
   ]
  },
  {
   "cell_type": "code",
   "execution_count": null,
   "metadata": {
    "collapsed": true
   },
   "outputs": [],
   "source": [
    "modelt.fit(train_x, train_y, epochs=4, batch_size=2048,validation_data=[test_x,test_y])\n",
    "lis=calcMarginsFromModelMod(dealtToMeList, theyKeptList, theyThrewList, flipCardList, whoseCribList, modelt)\n",
    "sum(lis)"
   ]
  },
  {
   "cell_type": "code",
   "execution_count": null,
   "metadata": {
    "collapsed": true
   },
   "outputs": [],
   "source": [
    "modelt.fit(train_x, train_y, epochs=4, batch_size=2048,validation_data=[test_x,test_y])\n",
    "lis=calcMarginsFromModelMod(dealtToMeList, theyKeptList, theyThrewList, flipCardList, whoseCribList, modelt)\n",
    "sum(lis)"
   ]
  },
  {
   "cell_type": "code",
   "execution_count": null,
   "metadata": {
    "collapsed": true
   },
   "outputs": [],
   "source": [
    "modelt.fit(train_x, train_y, epochs=4, batch_size=2048,validation_data=[test_x,test_y])\n",
    "lis=calcMarginsFromModelMod(dealtToMeList, theyKeptList, theyThrewList, flipCardList, whoseCribList, modelt)\n",
    "sum(lis)"
   ]
  },
  {
   "cell_type": "code",
   "execution_count": null,
   "metadata": {
    "collapsed": true
   },
   "outputs": [],
   "source": []
  },
  {
   "cell_type": "code",
   "execution_count": null,
   "metadata": {
    "collapsed": true
   },
   "outputs": [],
   "source": [
    "subplays=[]\n",
    "trainingHands=[]\n",
    "for i in range(len(allPossibilities)):\n",
    "    subplays+=[\n",
    "        {\n",
    "            'dealtToMe': allPossibilities[i]['hand'],\n",
    "            'dealtToThem': theirPossibilities[i]['hand'],\n",
    "            'iKept': allPossibilities[i]['kept'],\n",
    "            'crib': [a + b for a, b in zip(allPossibilities[i]['thrown'], 15*[list(inTheCrib[i])])],\n",
    "            'whoseCrib': -1*opponentPlays[i]['whoseCrib']\n",
    "        }\n",
    "    ]"
   ]
  },
  {
   "cell_type": "code",
   "execution_count": null,
   "metadata": {
    "collapsed": true
   },
   "outputs": [],
   "source": [
    "\n",
    "trainingLabels=pool.map(getScoresMod,subplays)"
   ]
  },
  {
   "cell_type": "code",
   "execution_count": null,
   "metadata": {
    "collapsed": true
   },
   "outputs": [],
   "source": []
  },
  {
   "cell_type": "code",
   "execution_count": null,
   "metadata": {
    "collapsed": true
   },
   "outputs": [],
   "source": []
  },
  {
   "cell_type": "code",
   "execution_count": null,
   "metadata": {},
   "outputs": [],
   "source": [
    "print()\n",
    "print(\"     human: \", sum(humanScores),\"points \",\"+/- \",2*sqrt(np.var(humanScores))*sqrt(len(humanScores)))\n",
    "print(\"           \",numOfGames, \" hands\")\n",
    "\n",
    "print()\n",
    "\n",
    "\n",
    "print()\n",
    "print(\"     ai:    \", sum(aiScores),\"points \")\n",
    "print()\n",
    "print(\"             diff=\",sum(humanScores)-sum(aiScores),\" +/- \",2*sqrt(np.var(np.array(humanScores)-np.array(aiScores)))*sqrt(len(humanScores)))\n",
    "\n",
    "print()\n",
    "\n"
   ]
  },
  {
   "cell_type": "code",
   "execution_count": null,
   "metadata": {
    "collapsed": true
   },
   "outputs": [],
   "source": [
    "with open('trainingData.pkl', 'wb') as f:  # Python 3: open(..., 'wb')\n",
    "    pickle.dump([train_x, train_y, test_x, test_y], f)"
   ]
  },
  {
   "cell_type": "code",
   "execution_count": null,
   "metadata": {
    "collapsed": true
   },
   "outputs": [],
   "source": [
    "with open('trainingData.pkl', 'rb') as f:  # Python 3: open(..., 'rb')\n",
    "    train_x, train_y, test_x, test_y = pickle.load(f)\n",
    "\n"
   ]
  },
  {
   "cell_type": "code",
   "execution_count": null,
   "metadata": {
    "collapsed": true
   },
   "outputs": [],
   "source": []
  },
  {
   "cell_type": "code",
   "execution_count": null,
   "metadata": {
    "collapsed": true
   },
   "outputs": [],
   "source": [
    "with open('benchmark2.pkl', 'wb') as f:  # Python 3: open(..., 'wb')\n",
    "    pickle.dump([dealtToMeList, theyKeptList, theyThrewList, iKeptList, iThrewList, flipCardList, whoseCribList], f)"
   ]
  },
  {
   "cell_type": "code",
   "execution_count": null,
   "metadata": {
    "collapsed": true
   },
   "outputs": [],
   "source": []
  },
  {
   "cell_type": "code",
   "execution_count": null,
   "metadata": {
    "collapsed": true
   },
   "outputs": [],
   "source": [
    "with open('benchmark2.pkl', 'rb') as f:  # Python 3: open(..., 'wb')\n",
    "    dealtToMeList, theyKeptList, theyThrewList, iKeptList, iThrewList, flipCardList, whoseCribList = pickle.load(f)"
   ]
  },
  {
   "cell_type": "code",
   "execution_count": null,
   "metadata": {
    "collapsed": true
   },
   "outputs": [],
   "source": [
    "with open('benchmark.pkl', 'rb') as f:  # Python 3: open(..., 'rb')\n",
    "    dealtToMeList, theyKeptList, theyThrewList, flipCardList, whoseCribList = pickle.load(f)\n"
   ]
  },
  {
   "cell_type": "code",
   "execution_count": null,
   "metadata": {},
   "outputs": [],
   "source": [
    "dealtToMeList[66]"
   ]
  },
  {
   "cell_type": "code",
   "execution_count": null,
   "metadata": {},
   "outputs": [],
   "source": [
    "from keras.models import load_model\n",
    "\n",
    "modelt.save('bestThrowingWeights.h5')  # creates a HDF5 file 'my_model.h5'"
   ]
  },
  {
   "cell_type": "code",
   "execution_count": null,
   "metadata": {
    "collapsed": true
   },
   "outputs": [],
   "source": []
  }
 ],
 "metadata": {
  "kernelspec": {
   "display_name": "Python 3",
   "language": "python",
   "name": "python3"
  },
  "language_info": {
   "codemirror_mode": {
    "name": "ipython",
    "version": 3
   },
   "file_extension": ".py",
   "mimetype": "text/x-python",
   "name": "python",
   "nbconvert_exporter": "python",
   "pygments_lexer": "ipython3",
   "version": "3.4.5"
  }
 },
 "nbformat": 4,
 "nbformat_minor": 2
}
